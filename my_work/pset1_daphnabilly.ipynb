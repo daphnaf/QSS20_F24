{
 "cells": [
  {
   "cell_type": "markdown",
   "metadata": {},
   "source": [
    "# Problem Set 1: Analysis of racial disparities in felony sentencing"
   ]
  },
  {
   "cell_type": "markdown",
   "metadata": {},
   "source": [
    "# 0. Load packages and imports"
   ]
  },
  {
   "cell_type": "code",
   "execution_count": 131,
   "metadata": {},
   "outputs": [],
   "source": [
    "## basic functionality\n",
    "import pandas as pd\n",
    "import numpy as np\n",
    "import re\n",
    "\n",
    "## can add others if you need them\n",
    "import matplotlib.pyplot as plt\n",
    "\n",
    "## repeated printouts\n",
    "from IPython.core.interactiveshell import InteractiveShell\n",
    "InteractiveShell.ast_node_interactivity = \"all\"\n"
   ]
  },
  {
   "cell_type": "markdown",
   "metadata": {},
   "source": [
    "## 0.1: Load the data (0 points)\n",
    "\n",
    "Load the `sentencing_asof0405.csv` data\n",
    "\n",
    "*Notes*: You may receive a warning about mixed data types upon import; feel free to ignore"
   ]
  },
  {
   "cell_type": "code",
   "execution_count": 37,
   "metadata": {},
   "outputs": [
    {
     "name": "stderr",
     "output_type": "stream",
     "text": [
      "/var/folders/tj/gn0fs7tx6ml_jnjbzkw10wpr0000gn/T/ipykernel_88472/3422513696.py:1: DtypeWarning: Columns (10,11,14,25) have mixed types. Specify dtype option on import or set low_memory=False.\n",
      "  sentencing = pd.read_csv(\"sentencing_asof0405.csv\")\n"
     ]
    }
   ],
   "source": [
    "sentencing = pd.read_csv(\"sentencing_asof0405.csv\")"
   ]
  },
  {
   "cell_type": "markdown",
   "metadata": {},
   "source": [
    "## 0.2: Print head, dimensions, info (0 points)"
   ]
  },
  {
   "cell_type": "code",
   "execution_count": 149,
   "metadata": {},
   "outputs": [
    {
     "data": {
      "text/html": [
       "<div>\n",
       "<style scoped>\n",
       "    .dataframe tbody tr th:only-of-type {\n",
       "        vertical-align: middle;\n",
       "    }\n",
       "\n",
       "    .dataframe tbody tr th {\n",
       "        vertical-align: top;\n",
       "    }\n",
       "\n",
       "    .dataframe thead th {\n",
       "        text-align: right;\n",
       "    }\n",
       "</style>\n",
       "<table border=\"1\" class=\"dataframe\">\n",
       "  <thead>\n",
       "    <tr style=\"text-align: right;\">\n",
       "      <th></th>\n",
       "      <th>CASE_ID</th>\n",
       "      <th>CASE_PARTICIPANT_ID</th>\n",
       "      <th>RECEIVED_DATE</th>\n",
       "      <th>OFFENSE_CATEGORY</th>\n",
       "      <th>PRIMARY_CHARGE_FLAG</th>\n",
       "      <th>CHARGE_ID</th>\n",
       "      <th>CHARGE_VERSION_ID</th>\n",
       "      <th>DISPOSITION_CHARGED_OFFENSE_TITLE</th>\n",
       "      <th>CHARGE_COUNT</th>\n",
       "      <th>DISPOSITION_DATE</th>\n",
       "      <th>...</th>\n",
       "      <th>INCIDENT_END_DATE</th>\n",
       "      <th>LAW_ENFORCEMENT_AGENCY</th>\n",
       "      <th>LAW_ENFORCEMENT_UNIT</th>\n",
       "      <th>ARREST_DATE</th>\n",
       "      <th>FELONY_REVIEW_DATE</th>\n",
       "      <th>FELONY_REVIEW_RESULT</th>\n",
       "      <th>ARRAIGNMENT_DATE</th>\n",
       "      <th>UPDATED_OFFENSE_CATEGORY</th>\n",
       "      <th>age_derived</th>\n",
       "      <th>is_changed_offense</th>\n",
       "    </tr>\n",
       "  </thead>\n",
       "  <tbody>\n",
       "    <tr>\n",
       "      <th>0</th>\n",
       "      <td>1.497650e+11</td>\n",
       "      <td>1.756910e+11</td>\n",
       "      <td>8/15/84 0:00</td>\n",
       "      <td>PROMIS Conversion</td>\n",
       "      <td>False</td>\n",
       "      <td>5.051011e+10</td>\n",
       "      <td>1.163040e+11</td>\n",
       "      <td>FIRST DEGREE MURDER</td>\n",
       "      <td>2</td>\n",
       "      <td>12/17/14 0:00</td>\n",
       "      <td>...</td>\n",
       "      <td>NaN</td>\n",
       "      <td>CHICAGO POLICE DEPT</td>\n",
       "      <td>NaN</td>\n",
       "      <td>8/15/84 0:00</td>\n",
       "      <td>8/15/84 0:00</td>\n",
       "      <td>Charge(S) Approved</td>\n",
       "      <td>9/21/84 0:00</td>\n",
       "      <td>Homicide</td>\n",
       "      <td>27.0</td>\n",
       "      <td>True</td>\n",
       "    </tr>\n",
       "    <tr>\n",
       "      <th>1</th>\n",
       "      <td>1.497650e+11</td>\n",
       "      <td>1.756910e+11</td>\n",
       "      <td>8/15/84 0:00</td>\n",
       "      <td>PROMIS Conversion</td>\n",
       "      <td>False</td>\n",
       "      <td>5.051021e+10</td>\n",
       "      <td>9.826507e+10</td>\n",
       "      <td>HOME INVASION</td>\n",
       "      <td>14</td>\n",
       "      <td>12/17/14 0:00</td>\n",
       "      <td>...</td>\n",
       "      <td>NaN</td>\n",
       "      <td>CHICAGO POLICE DEPT</td>\n",
       "      <td>NaN</td>\n",
       "      <td>8/15/84 0:00</td>\n",
       "      <td>8/15/84 0:00</td>\n",
       "      <td>Charge(S) Approved</td>\n",
       "      <td>9/21/84 0:00</td>\n",
       "      <td>Homicide</td>\n",
       "      <td>27.0</td>\n",
       "      <td>True</td>\n",
       "    </tr>\n",
       "    <tr>\n",
       "      <th>2</th>\n",
       "      <td>1.497650e+11</td>\n",
       "      <td>1.756910e+11</td>\n",
       "      <td>8/15/84 0:00</td>\n",
       "      <td>PROMIS Conversion</td>\n",
       "      <td>False</td>\n",
       "      <td>5.051645e+10</td>\n",
       "      <td>1.319730e+11</td>\n",
       "      <td>FIRST DEGREE MURDER</td>\n",
       "      <td>4</td>\n",
       "      <td>12/17/14 0:00</td>\n",
       "      <td>...</td>\n",
       "      <td>NaN</td>\n",
       "      <td>CHICAGO POLICE DEPT</td>\n",
       "      <td>NaN</td>\n",
       "      <td>8/15/84 0:00</td>\n",
       "      <td>8/15/84 0:00</td>\n",
       "      <td>Charge(S) Approved</td>\n",
       "      <td>9/21/84 0:00</td>\n",
       "      <td>Homicide</td>\n",
       "      <td>27.0</td>\n",
       "      <td>True</td>\n",
       "    </tr>\n",
       "    <tr>\n",
       "      <th>3</th>\n",
       "      <td>1.497650e+11</td>\n",
       "      <td>1.756910e+11</td>\n",
       "      <td>8/15/84 0:00</td>\n",
       "      <td>PROMIS Conversion</td>\n",
       "      <td>False</td>\n",
       "      <td>5.051650e+10</td>\n",
       "      <td>1.319660e+11</td>\n",
       "      <td>FIRST DEGREE MURDER</td>\n",
       "      <td>5</td>\n",
       "      <td>12/17/14 0:00</td>\n",
       "      <td>...</td>\n",
       "      <td>NaN</td>\n",
       "      <td>CHICAGO POLICE DEPT</td>\n",
       "      <td>NaN</td>\n",
       "      <td>8/15/84 0:00</td>\n",
       "      <td>8/15/84 0:00</td>\n",
       "      <td>Charge(S) Approved</td>\n",
       "      <td>9/21/84 0:00</td>\n",
       "      <td>Homicide</td>\n",
       "      <td>27.0</td>\n",
       "      <td>True</td>\n",
       "    </tr>\n",
       "    <tr>\n",
       "      <th>4</th>\n",
       "      <td>1.497650e+11</td>\n",
       "      <td>1.756910e+11</td>\n",
       "      <td>8/15/84 0:00</td>\n",
       "      <td>PROMIS Conversion</td>\n",
       "      <td>False</td>\n",
       "      <td>5.051665e+10</td>\n",
       "      <td>9.805964e+10</td>\n",
       "      <td>HOME INVASION</td>\n",
       "      <td>13</td>\n",
       "      <td>12/17/14 0:00</td>\n",
       "      <td>...</td>\n",
       "      <td>NaN</td>\n",
       "      <td>CHICAGO POLICE DEPT</td>\n",
       "      <td>NaN</td>\n",
       "      <td>8/15/84 0:00</td>\n",
       "      <td>8/15/84 0:00</td>\n",
       "      <td>Charge(S) Approved</td>\n",
       "      <td>9/21/84 0:00</td>\n",
       "      <td>Homicide</td>\n",
       "      <td>27.0</td>\n",
       "      <td>True</td>\n",
       "    </tr>\n",
       "  </tbody>\n",
       "</table>\n",
       "<p>5 rows × 43 columns</p>\n",
       "</div>"
      ],
      "text/plain": [
       "        CASE_ID  CASE_PARTICIPANT_ID RECEIVED_DATE   OFFENSE_CATEGORY  \\\n",
       "0  1.497650e+11         1.756910e+11  8/15/84 0:00  PROMIS Conversion   \n",
       "1  1.497650e+11         1.756910e+11  8/15/84 0:00  PROMIS Conversion   \n",
       "2  1.497650e+11         1.756910e+11  8/15/84 0:00  PROMIS Conversion   \n",
       "3  1.497650e+11         1.756910e+11  8/15/84 0:00  PROMIS Conversion   \n",
       "4  1.497650e+11         1.756910e+11  8/15/84 0:00  PROMIS Conversion   \n",
       "\n",
       "   PRIMARY_CHARGE_FLAG     CHARGE_ID  CHARGE_VERSION_ID  \\\n",
       "0                False  5.051011e+10       1.163040e+11   \n",
       "1                False  5.051021e+10       9.826507e+10   \n",
       "2                False  5.051645e+10       1.319730e+11   \n",
       "3                False  5.051650e+10       1.319660e+11   \n",
       "4                False  5.051665e+10       9.805964e+10   \n",
       "\n",
       "  DISPOSITION_CHARGED_OFFENSE_TITLE  CHARGE_COUNT DISPOSITION_DATE  ...  \\\n",
       "0               FIRST DEGREE MURDER             2    12/17/14 0:00  ...   \n",
       "1                     HOME INVASION            14    12/17/14 0:00  ...   \n",
       "2               FIRST DEGREE MURDER             4    12/17/14 0:00  ...   \n",
       "3               FIRST DEGREE MURDER             5    12/17/14 0:00  ...   \n",
       "4                     HOME INVASION            13    12/17/14 0:00  ...   \n",
       "\n",
       "  INCIDENT_END_DATE LAW_ENFORCEMENT_AGENCY LAW_ENFORCEMENT_UNIT   ARREST_DATE  \\\n",
       "0               NaN    CHICAGO POLICE DEPT                  NaN  8/15/84 0:00   \n",
       "1               NaN    CHICAGO POLICE DEPT                  NaN  8/15/84 0:00   \n",
       "2               NaN    CHICAGO POLICE DEPT                  NaN  8/15/84 0:00   \n",
       "3               NaN    CHICAGO POLICE DEPT                  NaN  8/15/84 0:00   \n",
       "4               NaN    CHICAGO POLICE DEPT                  NaN  8/15/84 0:00   \n",
       "\n",
       "  FELONY_REVIEW_DATE FELONY_REVIEW_RESULT ARRAIGNMENT_DATE  \\\n",
       "0       8/15/84 0:00   Charge(S) Approved     9/21/84 0:00   \n",
       "1       8/15/84 0:00   Charge(S) Approved     9/21/84 0:00   \n",
       "2       8/15/84 0:00   Charge(S) Approved     9/21/84 0:00   \n",
       "3       8/15/84 0:00   Charge(S) Approved     9/21/84 0:00   \n",
       "4       8/15/84 0:00   Charge(S) Approved     9/21/84 0:00   \n",
       "\n",
       "  UPDATED_OFFENSE_CATEGORY age_derived is_changed_offense  \n",
       "0                 Homicide        27.0               True  \n",
       "1                 Homicide        27.0               True  \n",
       "2                 Homicide        27.0               True  \n",
       "3                 Homicide        27.0               True  \n",
       "4                 Homicide        27.0               True  \n",
       "\n",
       "[5 rows x 43 columns]"
      ]
     },
     "execution_count": 149,
     "metadata": {},
     "output_type": "execute_result"
    },
    {
     "name": "stdout",
     "output_type": "stream",
     "text": [
      "<class 'pandas.core.frame.DataFrame'>\n",
      "RangeIndex: 248146 entries, 0 to 248145\n",
      "Data columns (total 43 columns):\n",
      " #   Column                             Non-Null Count   Dtype  \n",
      "---  ------                             --------------   -----  \n",
      " 0   CASE_ID                            248146 non-null  float64\n",
      " 1   CASE_PARTICIPANT_ID                248146 non-null  float64\n",
      " 2   RECEIVED_DATE                      248146 non-null  object \n",
      " 3   OFFENSE_CATEGORY                   248146 non-null  object \n",
      " 4   PRIMARY_CHARGE_FLAG                248146 non-null  bool   \n",
      " 5   CHARGE_ID                          248146 non-null  float64\n",
      " 6   CHARGE_VERSION_ID                  248146 non-null  float64\n",
      " 7   DISPOSITION_CHARGED_OFFENSE_TITLE  248146 non-null  object \n",
      " 8   CHARGE_COUNT                       248146 non-null  int64  \n",
      " 9   DISPOSITION_DATE                   248146 non-null  object \n",
      " 10  DISPOSITION_CHARGED_CHAPTER        248146 non-null  object \n",
      " 11  DISPOSITION_CHARGED_ACT            242771 non-null  object \n",
      " 12  DISPOSITION_CHARGED_SECTION        242771 non-null  object \n",
      " 13  DISPOSITION_CHARGED_CLASS          248127 non-null  object \n",
      " 14  DISPOSITION_CHARGED_AOIC           248122 non-null  object \n",
      " 15  CHARGE_DISPOSITION                 248146 non-null  object \n",
      " 16  CHARGE_DISPOSITION_REASON          904 non-null     object \n",
      " 17  SENTENCE_JUDGE                     247404 non-null  object \n",
      " 18  SENTENCE_COURT_NAME                246761 non-null  object \n",
      " 19  SENTENCE_COURT_FACILITY            246216 non-null  object \n",
      " 20  SENTENCE_PHASE                     248146 non-null  object \n",
      " 21  SENTENCE_DATE                      248146 non-null  object \n",
      " 22  SENTENCE_TYPE                      248146 non-null  object \n",
      " 23  CURRENT_SENTENCE_FLAG              248146 non-null  bool   \n",
      " 24  COMMITMENT_TYPE                    246464 non-null  object \n",
      " 25  COMMITMENT_TERM                    246434 non-null  object \n",
      " 26  COMMITMENT_UNIT                    246434 non-null  object \n",
      " 27  LENGTH_OF_CASE_in_Days             229126 non-null  float64\n",
      " 28  AGE_AT_INCIDENT                    238359 non-null  float64\n",
      " 29  RACE                               246879 non-null  object \n",
      " 30  GENDER                             247337 non-null  object \n",
      " 31  INCIDENT_CITY                      228745 non-null  object \n",
      " 32  INCIDENT_BEGIN_DATE                239122 non-null  object \n",
      " 33  INCIDENT_END_DATE                  22008 non-null   object \n",
      " 34  LAW_ENFORCEMENT_AGENCY             239405 non-null  object \n",
      " 35  LAW_ENFORCEMENT_UNIT               76408 non-null   object \n",
      " 36  ARREST_DATE                        242981 non-null  object \n",
      " 37  FELONY_REVIEW_DATE                 171907 non-null  object \n",
      " 38  FELONY_REVIEW_RESULT               171907 non-null  object \n",
      " 39  ARRAIGNMENT_DATE                   229126 non-null  object \n",
      " 40  UPDATED_OFFENSE_CATEGORY           248146 non-null  object \n",
      " 41  age_derived                        238359 non-null  float64\n",
      " 42  is_changed_offense                 248146 non-null  bool   \n",
      "dtypes: bool(3), float64(7), int64(1), object(32)\n",
      "memory usage: 76.4+ MB\n"
     ]
    },
    {
     "data": {
      "text/plain": [
       "(248146, 43)"
      ]
     },
     "execution_count": 149,
     "metadata": {},
     "output_type": "execute_result"
    },
    {
     "data": {
      "text/plain": [
       "10670278"
      ]
     },
     "execution_count": 149,
     "metadata": {},
     "output_type": "execute_result"
    },
    {
     "data": {
      "text/plain": [
       "2"
      ]
     },
     "execution_count": 149,
     "metadata": {},
     "output_type": "execute_result"
    }
   ],
   "source": [
    "sentencing.head()\n",
    "sentencing.info()\n",
    "sentencing.shape\n",
    "sentencing.size\n",
    "sentencing.ndim"
   ]
  },
  {
   "cell_type": "markdown",
   "metadata": {},
   "source": [
    "# Part one: data cleaning/interpretation"
   ]
  },
  {
   "cell_type": "markdown",
   "metadata": {},
   "source": [
    "## 1.1: Understanding the unit of analysis (5 points)\n",
    "\n",
    "- Print the number of unique values for the following columns. Do so in a way that avoids copying/pasting code for \n",
    "the three:\n",
    "\n",
    "    - Cases (`CASE_ID`)\n",
    "    - People in that case (`CASE_PARTICIPANT_ID`)\n",
    "    - Charges (`CHARGE_ID`)\n",
    "\n",
    "- Write a couple sentences on the following and show an example of each (e.g., a case involving multiple people):\n",
    "    \n",
    "    - Why there are more unique people than unique cases?\n",
    "    - Why there are more unique charges than unique people?\n",
    "\n",
    "- Print the mean and median number of charges per case/participant \n",
    "\n",
    "- Print the mean and median number of participants per case\n",
    "\n",
    "- Does the data seem to enable us to follow the same defendant across different cases they're charged in? Write 1 sentence in support of your conclusion.\n"
   ]
  },
  {
   "cell_type": "code",
   "execution_count": 215,
   "metadata": {},
   "outputs": [
    {
     "name": "stdout",
     "output_type": "stream",
     "text": [
      "CASE_ID                 65457\n",
      "CASE_PARTICIPANT_ID    137953\n",
      "CHARGE_ID               79889\n",
      "dtype: int64\n",
      "CASE_ID       CASE_PARTICIPANT_ID  CHARGE_ID   \n",
      "4.213800e+11  8.280430e+11         4.066410e+11    20\n",
      "2.284780e+11  2.133390e+11         1.471540e+11    20\n",
      "                                   1.471250e+11    16\n",
      "4.162400e+11  8.114180e+11         3.968440e+11    15\n",
      "3.871600e+11  7.238070e+11         3.490850e+11    15\n",
      "Name: count, dtype: int64\n",
      "CASE_ID\n",
      "1.497650e+11    11\n",
      "1.500660e+11     6\n",
      "1.545250e+11     1\n",
      "1.549550e+11     1\n",
      "1.552230e+11     7\n",
      "                ..\n",
      "4.454240e+11     2\n",
      "4.455160e+11     1\n",
      "4.455270e+11     1\n",
      "4.455880e+11     1\n",
      "4.455930e+11     2\n",
      "Name: CHARGE_ID, Length: 65457, dtype: int64\n",
      "3.7909772827963395\n",
      "3.0\n",
      "1.798772045551746\n",
      "1.0\n",
      "3.7909772827963395\n",
      "3.0\n",
      "CASE_PARTICIPANT_ID\n",
      "1.303410e+11    2\n",
      "1.631180e+11    2\n",
      "1.770550e+11    2\n",
      "1.876540e+11    2\n",
      "1.880160e+11    2\n",
      "               ..\n",
      "8.977710e+11    2\n",
      "8.981990e+11    2\n",
      "8.984020e+11    2\n",
      "8.986680e+11    2\n",
      "8.988190e+11    2\n",
      "Name: CASE_ID, Length: 13780, dtype: int64\n"
     ]
    }
   ],
   "source": [
    "# Unique Values\n",
    "unique_values = sentencing[[\"CASE_ID\", \"CASE_PARTICIPANT_ID\", \"CHARGE_ID\"]].nunique()\n",
    "print(unique_values)\n",
    "values = sentencing[[\"CASE_ID\", \"CASE_PARTICIPANT_ID\", \"CHARGE_ID\"]].value_counts()\n",
    "print(values.head())\n",
    "# Cases\n",
    "# There are more unique people than unique cases because each case can include more than one individual. \n",
    "# For example, a crime with multiple people involved could lead to more participants in one case, like with an aggravated assault case that includes multiple perpetrators.\n",
    "# An example in the code is shown in the second row of values.head() above, which includes the same case number but differing participant numbers.\n",
    "# There could be more unique charges than unique people because a single person can face multiple charges in a single case such as with the case below: \n",
    "# For example, being charged with trespassing and robbery in one case trial.\n",
    "\n",
    "#Mean and median of charges per case\n",
    "charges_case = sentencing.groupby(\"CASE_ID\")[\"CHARGE_ID\"].count()\n",
    "print(charges_case)\n",
    "mean_charges_case = charges_case.mean()\n",
    "median_charges_case = charges_case.median()\n",
    "\n",
    "print(mean_charges_case)\n",
    "print(median_charges_case)\n",
    "#per participant\n",
    "charges_participant = sentencing.groupby(\"CASE_PARTICIPANT_ID\")[\"CHARGE_ID\"].count()\n",
    "mean_charges_participant = charges_participant.mean()\n",
    "median_charges_participant = charges_participant.median()\n",
    "\n",
    "print(mean_charges_participant)\n",
    "print(median_charges_participant)\n",
    "#participants per case\n",
    "participants_case = sentencing.groupby(\"CASE_ID\")[\"CASE_PARTICIPANT_ID\"].count()\n",
    "mean_participants_case = participants_case.mean()\n",
    "median_participants_case = participants_case.median()\n",
    "\n",
    "print(mean_participants_case)\n",
    "print(median_participants_case)\n",
    "#Data following\n",
    "# Yes, the data seems to enable us to follow a defendant because the same case participant ID applies to multiple cases, which we can also observe because there are participant IDs below that appear in more than one case ID; this can also be thought of us as multiple cases per participant.\n",
    "cases_participant = sentencing.groupby('CASE_PARTICIPANT_ID')['CASE_ID'].nunique()\n",
    "multiple_cases = cases_participant[cases_participant > 1]\n",
    "print(multiple_cases)\n"
   ]
  },
  {
   "cell_type": "markdown",
   "metadata": {},
   "source": [
    "## 1.2.1: Which offense is final? (3 points)\n",
    "\n",
    "- First, read the data documentation [link](https://datacatalog.cookcountyil.gov/api/views/tg8v-tm6u/files/8597cdda-f7e1-44d1-b0ce-0a4e43f8c980?download=true&filename=CCSAO%20Data%20Glossary.pdf) and summarize in your own words the differences between `OFFENSE_CATEGORY` and `UPDATED_OFFENSE_CATEGORY` \n",
    "\n",
    "- Construct an indicator `is_changed_offense` that's True for case-participant-charge observations (rows) where there's a difference between the original charge (offense category) and the most current charge (updated offense category). What are some of the more common changed offenses? (can just print result of sort_values based on original offense category)\n",
    "\n",
    "- Print one example of a changed offense from one of these categories and comment on what the reason may be\n"
   ]
  },
  {
   "cell_type": "code",
   "execution_count": 225,
   "metadata": {},
   "outputs": [
    {
     "data": {
      "text/plain": [
       "OFFENSE_CATEGORY\n",
       "PROMIS Conversion               6394\n",
       "DUI                             3896\n",
       "UUW - Unlawful Use of Weapon    2155\n",
       "Other Offense                   2125\n",
       "Aggravated Battery              1927\n",
       "Name: count, dtype: int64"
      ]
     },
     "execution_count": 225,
     "metadata": {},
     "output_type": "execute_result"
    },
    {
     "data": {
      "text/html": [
       "<div>\n",
       "<style scoped>\n",
       "    .dataframe tbody tr th:only-of-type {\n",
       "        vertical-align: middle;\n",
       "    }\n",
       "\n",
       "    .dataframe tbody tr th {\n",
       "        vertical-align: top;\n",
       "    }\n",
       "\n",
       "    .dataframe thead th {\n",
       "        text-align: right;\n",
       "    }\n",
       "</style>\n",
       "<table border=\"1\" class=\"dataframe\">\n",
       "  <thead>\n",
       "    <tr style=\"text-align: right;\">\n",
       "      <th></th>\n",
       "      <th>CASE_ID</th>\n",
       "      <th>OFFENSE_CATEGORY</th>\n",
       "      <th>UPDATED_OFFENSE_CATEGORY</th>\n",
       "      <th>CHARGE_ID</th>\n",
       "    </tr>\n",
       "  </thead>\n",
       "  <tbody>\n",
       "    <tr>\n",
       "      <th>161337</th>\n",
       "      <td>4.141310e+11</td>\n",
       "      <td>Aggravated Assault Police Officer</td>\n",
       "      <td>Attempt Homicide</td>\n",
       "      <td>3.933530e+11</td>\n",
       "    </tr>\n",
       "    <tr>\n",
       "      <th>231526</th>\n",
       "      <td>4.329330e+11</td>\n",
       "      <td>Aggravated Assault Police Officer</td>\n",
       "      <td>Criminal Damage to Property</td>\n",
       "      <td>4.282790e+11</td>\n",
       "    </tr>\n",
       "    <tr>\n",
       "      <th>204443</th>\n",
       "      <td>4.246550e+11</td>\n",
       "      <td>Aggravated Assault Police Officer</td>\n",
       "      <td>Criminal Damage to Property</td>\n",
       "      <td>4.128460e+11</td>\n",
       "    </tr>\n",
       "    <tr>\n",
       "      <th>204444</th>\n",
       "      <td>4.246550e+11</td>\n",
       "      <td>Aggravated Assault Police Officer</td>\n",
       "      <td>Criminal Damage to Property</td>\n",
       "      <td>4.128460e+11</td>\n",
       "    </tr>\n",
       "  </tbody>\n",
       "</table>\n",
       "</div>"
      ],
      "text/plain": [
       "             CASE_ID                   OFFENSE_CATEGORY  \\\n",
       "161337  4.141310e+11  Aggravated Assault Police Officer   \n",
       "231526  4.329330e+11  Aggravated Assault Police Officer   \n",
       "204443  4.246550e+11  Aggravated Assault Police Officer   \n",
       "204444  4.246550e+11  Aggravated Assault Police Officer   \n",
       "\n",
       "           UPDATED_OFFENSE_CATEGORY     CHARGE_ID  \n",
       "161337             Attempt Homicide  3.933530e+11  \n",
       "231526  Criminal Damage to Property  4.282790e+11  \n",
       "204443  Criminal Damage to Property  4.128460e+11  \n",
       "204444  Criminal Damage to Property  4.128460e+11  "
      ]
     },
     "execution_count": 225,
     "metadata": {},
     "output_type": "execute_result"
    }
   ],
   "source": [
    "# Offense category is the initial category of charge while Updates is the final classification of the crime based on the \"primary,\" or main charge.\n",
    "sentencing[\"is_changed_offense\"] = sentencing[\"OFFENSE_CATEGORY\"] != sentencing[\"UPDATED_OFFENSE_CATEGORY\"]\n",
    "\n",
    "changing_offenses = sentencing[sentencing[\"is_changed_offense\"]]\n",
    "common_changed = changing_offenses[\"OFFENSE_CATEGORY\"].value_counts()\n",
    "common_changed.head()\n",
    "\n",
    "example_changed_offense = changing_offenses.sort_values('OFFENSE_CATEGORY').iloc[0:4]\n",
    "\n",
    "example_changed_offense[['CASE_ID', 'OFFENSE_CATEGORY', 'UPDATED_OFFENSE_CATEGORY', 'CHARGE_ID']]\n",
    "\n",
    "#Above we have printed out the examples of an offense that originally was \"Aggravated Assault Police Officer\" but it was updated \n",
    "#to \"Attempt Homicide\". The reason for this could be that new evidence or testimony came to light showing that the assault was\n",
    "#more serious than initially believed. For example, if the defendant used a weapon or had intent to kill, \n",
    "#the charge may have then been changed from aggravated assault to attempted homicide. Further, the updated category is based on the primary charge, which may fall under the homicide category."
   ]
  },
  {
   "cell_type": "markdown",
   "metadata": {},
   "source": [
    "## 1.2.2: Simplifying the charges (5 points)\n",
    "\n",
    "Using the field (`UPDATED_OFFENSE_CATEGORY`), create a new field, `simplified_offense_derived`, that simplifies the many offense categories into broader buckets using the following process:\n",
    "\n",
    "First, combine all offenses beginning with \"Aggravated\" into a single category without that prefix (e.g., Aggravated Battery and Battery just becomes Battery)\n",
    "\n",
    "Then:\n",
    "- Combine all offenses with arson into a single arson category (`Arson`)\n",
    "- Combine all offenses with homicide into a single homicide category (`Homicide`)\n",
    "- Combine all offenses with vehicle/vehicular in the name into a single vehicle category (`Vehicle-related`)\n",
    "- Combine all offenses with battery in the name into a single battery category (`Battery`)\n",
    "\n",
    "Try to do so efficiently (e.g., using map and a dictionary or np.select rather than separate line for each recoded offense)\n",
    "\n",
    "Print the difference between the # of unique offenses in the original `UPDATED_OFFENSE_CATEGORY` field and the # of unique offenses in your new `simplified_offense_derived` field\n"
   ]
  },
  {
   "cell_type": "code",
   "execution_count": 117,
   "metadata": {},
   "outputs": [
    {
     "ename": "TypeError",
     "evalue": "string indices must be integers, not 'str'",
     "output_type": "error",
     "traceback": [
      "\u001b[0;31m---------------------------------------------------------------------------\u001b[0m",
      "\u001b[0;31mTypeError\u001b[0m                                 Traceback (most recent call last)",
      "Cell \u001b[0;32mIn[117], line 2\u001b[0m\n\u001b[1;32m      1\u001b[0m \u001b[38;5;66;03m## strip the aggravated from the crime names\u001b[39;00m\n\u001b[0;32m----> 2\u001b[0m aggravated_prefix \u001b[38;5;241m=\u001b[39m [x[\u001b[38;5;124m'\u001b[39m\u001b[38;5;124maggravated\u001b[39m\u001b[38;5;124m'\u001b[39m] \u001b[38;5;28;01mfor\u001b[39;00m x \u001b[38;5;129;01min\u001b[39;00m sentencing\u001b[38;5;241m.\u001b[39mUPDATED_OFFENSE_CATEGORY]\n\u001b[1;32m      3\u001b[0m aggravated_prefix\n",
      "\u001b[0;31mTypeError\u001b[0m: string indices must be integers, not 'str'"
     ]
    }
   ],
   "source": [
    "simplified_offense_derived = {}\n",
    "\n",
    "\n",
    "\n",
    "\n",
    "\n"
   ]
  },
  {
   "cell_type": "markdown",
   "metadata": {},
   "source": [
    "## 1.3: Cleaning additional variables (10 points)\n",
    "\n",
    "Clean the following variables; make sure to retain the original variable in data and use the derived suffix so it's easier to pull these cleaned out variables later (e.g., `age_derived`) to indicate this was a transformation\n",
    "\n",
    "- Race: create True/false indicators for `is_black_derived` (Black only or mixed race with hispanic), Non-Black Hispanic, so either hispanic alone or white hispanic (`is_hisp_derived`), White non-hispanic (`is_white_derived`), or none of the above (`is_othereth_derived`)\n",
    "\n",
    "- Gender: create a boolean true/false indicator for `is_male_derived` (false is female, unknown, or other)\n",
    "\n",
    "- Age at incident: you notice outliers like 130-year olds. Winsorsize the top 0.01% of values to be equal to the 99.99th percentile value pre-winsorization. Call this `age_derived`\n",
    "\n",
    "- Create `sentenceymd_derived` that's a version of `SENTENCING_DATE` converted to datetime format. Also create a rounded version, `sentenceym_derived`, that's rounded down to the first of the month and the year (e.g., 01-05-2016 and 01-27-2016 each become 01-01-2016)\n",
    "    - Hint: all timestamps are midnight so u can strip in conversion. For full credit, before converting, you notice that some of the years have been mistranscribed (e.g., 291X or 221X instead of 201X). Programatically fix those (eg 2914 -> 2014). Even after cleaning, there will still be some that are after the year 2021 that we'll filter out later. For partial credit, you can ignore the timestamps that cause errors and set errors = \"coerce\" within `pd.to_datetime()` to allow the conversion to proceed. \n",
    "\n",
    "- Sentencing judge: create an identifier (`judgeid_derived`) for each unique judge (`SENTENCE_JUDGE`) structured as judge_1, judge_2...., with the order determined by sorting the judges (will sort on fname then last). When finding unique judges, there are various duplicates we could weed out --- for now, just focus on (1) the different iterations of Doug/Douglas Simpson, (2) the different iterations of Shelley Sutker (who appears both with her maiden name and her hyphenated married name). \n",
    "     - Hint: due to mixed types, you may need to cast the `SENTENCE_JUDGE` var to a diff type to sort\n",
    "\n",
    "After finishing, print a random sample of 10 rows (data.sample(n = 10)) with the original and cleaned columns for the relevant variables to validate your work"
   ]
  },
  {
   "cell_type": "code",
   "execution_count": 71,
   "metadata": {},
   "outputs": [
    {
     "name": "stdout",
     "output_type": "stream",
     "text": [
      "0         27.0\n",
      "1         27.0\n",
      "2         27.0\n",
      "3         27.0\n",
      "4         27.0\n",
      "          ... \n",
      "248141    19.0\n",
      "248142    32.0\n",
      "248143    29.0\n",
      "248144    29.0\n",
      "248145    30.0\n",
      "Name: age_derived, Length: 248146, dtype: float64\n"
     ]
    }
   ],
   "source": [
    "#is_black_derived = sentencing.groupby(\n",
    "\n",
    "age_99 = sentencing['AGE_AT_INCIDENT'].quantile(0.9999)\n",
    "sentencing['age_derived'] = np.where(sentencing['AGE_AT_INCIDENT'] > age_99, age_99, sentencing['AGE_AT_INCIDENT'])\n",
    "print(sentencing['age_derived'])\n"
   ]
  },
  {
   "cell_type": "markdown",
   "metadata": {},
   "source": [
    "## 1.4: Subsetting rows to analytic dataset (5 points)\n",
    "\n",
    "You decide based on the above to simplify things in the following ways:\n",
    "    \n",
    "- Subset to cases where only one participant is charged, since cases with >1 participant might have complications like \n",
    "plea bargains/informing from other participants affecting the sentencing of the focal participant\n",
    "\n",
    "- To go from a participant-case level dataset, where each participant is repeated across charges tied to the case, to a participant-level dataset, where each participant has one charge, subset to a participant's primary charge and their current sentence (`PRIMARY_CHARGE_FLAG` is True and `CURRENT_SENTENCE_FLAG` is True). Double check that this worked by confirming there are no longer multiple charges for the same case-participant\n",
    "\n",
    "- Filter out observations where judge is nan or nonsensical (indicated by is.null or equal to FLOOD)\n",
    "\n",
    "- Subset to sentencing date between 01-01-2012 and 04-05-2021 (inclusive)\n",
    "\n",
    "After completing these steps, print the number of rows in the data"
   ]
  },
  {
   "cell_type": "code",
   "execution_count": null,
   "metadata": {},
   "outputs": [],
   "source": []
  },
  {
   "cell_type": "markdown",
   "metadata": {},
   "source": [
    "# Part two: investigating Black vs. White sentencing disparities\n",
    "\n",
    "Now that the data are cleaned, we're going to investigate different types of disparities in sentencing between Black defendants and White defendants. We're focusing on these groups for the purpose of the problem set, but the analysis could be extended to study Hispanic defendants or, in a different jurisdiction, Asian and other minoritized groups.\n",
    "\n",
    "**Details if interested in digging deeper**: If interested (optional), you can read more technical coverage of how we might (1) measure disparities, and (2) what factors you want to adjust for when deciding whether two defendants are 'similarly situated' but for their race in the following sources:\n",
    "\n",
    "- [Review of sentencing disparities research](https://www.journals.uchicago.edu/doi/full/10.1086/701505)\n",
    "- [Discussion of causal model/blinding race at charging stage of the prosecutorial process](https://5harad.com/papers/blind-charging.pdf)\n",
    "- [Discussion of measuring discrimination in policing that can generalize to the sentencing case](https://www.annualreviews.org/doi/abs/10.1146/annurev-criminol-011518-024731)\n",
    "- [General discussion of causal challenges in measuring between-group disparities](https://osf.io/preprints/socarxiv/gx4y3/)\n",
    "\n",
    "**One major caveat**: when investigating whether two similar defendants received different sentences, we're missing one important attribute that influences sentencing: the defendant's criminal history. This influences sentencing both through sentencing guidelines, which can prescribe longer sentences for those who have certain types of prior convictions, and through judicial discretion if judges are more lenient with first-time defendants. The above sources discuss how much we want to \"control away\" for this prior history, since if we think there are racial biases in which defendants, conditional on *committing* a crime, are arrested and charged, we may not want to adjust for that factor. More discussion [in this article](https://www.themarshallproject.org/2019/12/03/the-growing-racial-disparity-in-prison-time)\n"
   ]
  },
  {
   "cell_type": "markdown",
   "metadata": {},
   "source": [
    "## 2.0: (0 points)"
   ]
  },
  {
   "cell_type": "markdown",
   "metadata": {},
   "source": [
    "First, read in the following dataset (regardless of progress on part one): `sentencing_cleaned.pkl` (if you can't read in the pkl you can read in the .csv format but may need to recast some of the datetime columns)\n",
    "\n",
    "*Note*: don't worry if there are slight differences in your output from Part One and this dataset/it's not a good use of time to try to reverse engineer Part One answers from this cleaned data."
   ]
  },
  {
   "cell_type": "code",
   "execution_count": 129,
   "metadata": {},
   "outputs": [],
   "source": [
    "cleaned_data = pd.read_pickle(\"sentencing_cleaned.pkl\")"
   ]
  },
  {
   "cell_type": "markdown",
   "metadata": {},
   "source": [
    "## 2.1: Investigating one type of between-group difference: who reaches the sentencing stage? (5 points)\n",
    "\n",
    "Tabulate and visualize the proportion of defendants, out of all defendants sentenced in a given month/year, who are Black and who are White (separate proportions)\n",
    "\n",
    "- Denominator is number of unique cases that month\n",
    "- Numerator for black defendants is count of is_black_derived\n",
    "- Numerator for white defendants is count of is_white_derived\n",
    "- Fraction of each is numerator/denominator\n",
    "\n",
    "- Print the table\n",
    "- Create a graph with two lines--- one for Black defendants as fraction of total; another for White defendants. Make sure it includes a legend summarizing which color is for which group, and clean the legend so that it has informative names (e.g., Black or White rather than prop_black or prop_white)\n",
    "- Use mathematical notation to write out each of the proportions using summation notation in a 1-2 sentence writeup describing trends. What seems to be going on in April and May 2020? \n",
    "\n",
    "**Optional challenge**: improve the viz by shading the background of the visualization for months with fewer than 100 cases \n",
    "\n",
    "**Optional challenge**: improve the viz by adding a vertical line for 12-01-2016, the month that new State's Attorney Foxx took office "
   ]
  },
  {
   "cell_type": "code",
   "execution_count": null,
   "metadata": {},
   "outputs": [],
   "source": [
    "cleaned_data[df\n",
    "\n",
    "cleaned_data = data[['sentenceym_derived', 'CASE_ID', 'is_black_derived', 'is_white_derived']].copy()\n",
    "\n",
    "data_filtered['sentenceym_derived'] = pd.to_datetime(data_filtered['sentenceym_derived']).dt.to_period('M')\n",
    "\n",
    "# group by month/year and calculate metrics\n",
    "monthly_data = data_filtered.groupby('sentenceym_derived').agg(\n",
    "    num_cases=('CASE_ID', 'nunique'), # unique cases per month\n",
    "    num_black_defendants=('is_black_derived', 'sum'), # total Black defendants\n",
    "    num_white_defendants=('is_white_derived', 'sum') # total White defendants\n",
    ").reset_index()\n",
    "\n",
    "# calculate proportions\n",
    "monthly_data['prop_black'] = monthly_data['num_black_defendants'] / monthly_data['num_cases']\n",
    "monthly_data['prop_white'] = monthly_data['num_white_defendants'] / monthly_data['num_cases']\n",
    "\n",
    "\n",
    "plt.figure(figsize=(10, 6))\n",
    "plt.plot(months, proportion_black, marker='o', label='Black Defendants')\n",
    "plt.plot(months, proportion_white, marker='o', label='White Defendants')\n",
    "plt.title('Proportion of Black and White Defendants Sentenced')\n",
    "plt.xlabel('Month/Year')\n",
    "plt.ylabel('Proportion of Defendants')\n",
    "plt.legend(title='Defendant Group')\n",
    "plt.grid()\n",
    "plt.ylim(0, 1)\n",
    "plt.show()"
   ]
  },
  {
   "cell_type": "markdown",
   "metadata": {},
   "source": [
    "## 2.2: Investigating the first type of disparity: probation versus incaceration (10 points)\n",
    "\n",
    "One type of disparity beyond who arrives at the sentencing stage is whether the defendant receives probation or incaceration.\n",
    "\n",
    "According to the codebook, incarceration is indicated by `COMMITMENT_TYPE` == \"Illinois Department of Corrections\"\n",
    "\n",
    "Recreate the previous plot but where the y axis represents the difference between the following proportions (can be either Black - White or White - Black but make sure to label), adding a smoothed line:\n",
    "\n",
    "- Percent of black defendants who are incarcerated out of all black defendants that month/year \n",
    "- Percent of white defendants who are incarcerated out of all white defendants that month/year \n",
    "\n",
    "In a markdown cell after, write 1-2 sentences on your observations of trends over time. Do gaps seem to be widening or increasing?"
   ]
  },
  {
   "cell_type": "code",
   "execution_count": null,
   "metadata": {},
   "outputs": [],
   "source": [
    "([race == \"BLACK\"], incarcerated)[[\"month\", \"year\"]]"
   ]
  },
  {
   "cell_type": "markdown",
   "metadata": {},
   "source": [
    "## 2.3: Investigating mechanisms: incaceration rates by charge\n",
    "\n",
    "Your colleague sees the previous graph and is worried that the gap could be different---either wider or smaller---if you adjust for the fact that prosecutors have discretion in what crimes to charge defendants with. If white defendants are charged with crimes that tend to receive probation rather than incarceration, that could explain some of the gaps.\n",
    "\n",
    "In the next questions, you'll begin to investigate this."
   ]
  },
  {
   "cell_type": "code",
   "execution_count": null,
   "metadata": {},
   "outputs": [],
   "source": []
  },
  {
   "cell_type": "markdown",
   "metadata": {},
   "source": [
    "### 2.3.1: Find the most common offenses (3 points)\n",
    "\n",
    "First, create a set of 'frequent offenses' that represent (over the entire period) the union of the 10 offenses Black defendant are most likely to be charged with and the 10 offenses white defendants are most likely to be charged with (might be far less than 20 total if there's a lot of overlap in common charges)\n",
    "\n",
    "Use the `simplified_offense_derived` for this"
   ]
  },
  {
   "cell_type": "code",
   "execution_count": null,
   "metadata": {},
   "outputs": [],
   "source": [
    ".mode()"
   ]
  },
  {
   "cell_type": "markdown",
   "metadata": {},
   "source": [
    "### 2.3.2: Look at incarceration rates (again just whether incarcerated) by race and offense type for these top offenses (3 points)\n",
    "\n",
    "Print a wide-format version of the resulting table (so each row is an offense type, one col is black incarceration rate for that offense type; another is the white incarceration rate) and interpret. Which offenses show the largest disparities in judges being less likely to sentence White defendants to incarceration/more likely to offer those defendants probation?\n"
   ]
  },
  {
   "cell_type": "code",
   "execution_count": null,
   "metadata": {},
   "outputs": [],
   "source": [
    "df.groupby("
   ]
  },
  {
   "cell_type": "markdown",
   "metadata": {},
   "source": [
    "### 2.3.3: Examine whether this changes pre and post change to charging threshold for retail theft (13 points)\n",
    "\n",
    "One important question is not only whether there are disparities by offense type but also whether these disparities are changing over time.\n",
    "\n",
    "The SAO, for instance, announced in December of 2016 that they would no longer default to charging retail thefts of under \\$1,000 as felonies. This change might have (1) decreased disparities or (2) increased disparities, depending on the correlation between race/ethnicity and magnitude of goods stolen: [news coverage](https://www.dnainfo.com/chicago/20161215/little-village/kim-foxx-raises-bar-for-retail-theft-felonies/). \n",
    "\n",
    "Focusing on `simplified_offense_derived` == \"Retail theft.\" Using a function and/or loop (Dec. 2016 is always excluded as a transition month):\n",
    "\n",
    "- Compare Black-White disparities before and after the change using a two-month bandwidth (so pre is October and November 2016; post is January and February 2017)\n",
    "\n",
    "- Compare Black-White disparities before and after the change using a four-month bandwidth (so pre is August- November 2016; post is January - April 2017)\n",
    "\n",
    "- Compare Black-White disparities using an eight-month bandwidth\n",
    "\n",
    "- Compare Black-White disparities using a twelve-month bandwidth\n",
    "\n",
    "\n",
    "------------------ \n",
    "\n",
    "- Print a table with the results (any organization is fine as long as it's clear)  \n",
    "\n",
    "- Create a bar chart where the x axis represents different bandwidths (2, 4, etc); the y axis the size of the Black-White gap in whether the defendant receives incarceration, and for each of the x axis points, you have one shaded bar representing \"before\" the change, another representing \"after\" the change (make sure that before is ordered before after and the bandwidths are from smallest to largest)\n",
    "\n",
    "*Note*: for each of the bandwidths include dates the entire month (e.g., for the first, include not only 02-01-2017 but everything up through 02-28-2017; easiest way is for the subsetting to use the rounded `sentenceym_derived`). Also make sure to only include white or black defendants.\n",
    "\n",
    "\n",
    "**Extra credit**: because the bandwidths have different sample sizes, a better viz incorporates measures of uncertainty. Add standard errors to the estimates using the formula: $(\\dfrac{p(1-p)}{n})^{0.5}$ where $p$ is the gap and $N$ is the number of cases in each bandwidth period \n"
   ]
  },
  {
   "cell_type": "code",
   "execution_count": null,
   "metadata": {},
   "outputs": [],
   "source": []
  },
  {
   "cell_type": "markdown",
   "metadata": {},
   "source": [
    "### 2.3.3.1: Interpret the results (2 points)\n",
    "\n",
    "Write a two-sentence interpretation of the results. What might this show about how people on both sides of the issue---those who argued that the retail theft policy change would narrow disparities; those who argued that the change may widen disparities--could support their claims? "
   ]
  },
  {
   "cell_type": "code",
   "execution_count": null,
   "metadata": {},
   "outputs": [],
   "source": []
  }
 ],
 "metadata": {
  "kernelspec": {
   "display_name": "Python 3 (ipykernel)",
   "language": "python",
   "name": "python3"
  },
  "language_info": {
   "codemirror_mode": {
    "name": "ipython",
    "version": 3
   },
   "file_extension": ".py",
   "mimetype": "text/x-python",
   "name": "python",
   "nbconvert_exporter": "python",
   "pygments_lexer": "ipython3",
   "version": "3.12.4"
  }
 },
 "nbformat": 4,
 "nbformat_minor": 4
}
