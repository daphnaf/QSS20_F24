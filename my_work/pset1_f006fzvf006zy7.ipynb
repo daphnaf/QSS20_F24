{
 "cells": [
  {
   "cell_type": "markdown",
   "metadata": {},
   "source": [
    "# Problem Set 1: Analysis of racial disparities in felony sentencing"
   ]
  },
  {
   "cell_type": "markdown",
   "metadata": {},
   "source": [
    "# 0. Load packages and imports"
   ]
  },
  {
   "cell_type": "code",
   "execution_count": 530,
   "metadata": {},
   "outputs": [],
   "source": [
    "## basic functionality\n",
    "import pandas as pd\n",
    "import numpy as np\n",
    "import re\n",
    "\n",
    "## can add others if you need them\n",
    "import matplotlib.pyplot as plt\n",
    "\n",
    "## repeated printouts\n",
    "from IPython.core.interactiveshell import InteractiveShell\n",
    "InteractiveShell.ast_node_interactivity = \"all\"\n"
   ]
  },
  {
   "cell_type": "markdown",
   "metadata": {},
   "source": [
    "## 0.1: Load the data (0 points)\n",
    "\n",
    "Load the `sentencing_asof0405.csv` data\n",
    "\n",
    "*Notes*: You may receive a warning about mixed data types upon import; feel free to ignore"
   ]
  },
  {
   "cell_type": "code",
   "execution_count": 532,
   "metadata": {},
   "outputs": [
    {
     "name": "stderr",
     "output_type": "stream",
     "text": [
      "/var/folders/tj/gn0fs7tx6ml_jnjbzkw10wpr0000gn/T/ipykernel_35739/3422513696.py:1: DtypeWarning: Columns (10,11,14,25) have mixed types. Specify dtype option on import or set low_memory=False.\n",
      "  sentencing = pd.read_csv(\"sentencing_asof0405.csv\")\n"
     ]
    }
   ],
   "source": [
    "sentencing = pd.read_csv(\"sentencing_asof0405.csv\")"
   ]
  },
  {
   "cell_type": "markdown",
   "metadata": {},
   "source": [
    "## 0.2: Print head, dimensions, info (0 points)"
   ]
  },
  {
   "cell_type": "code",
   "execution_count": 534,
   "metadata": {},
   "outputs": [
    {
     "data": {
      "text/html": [
       "<div>\n",
       "<style scoped>\n",
       "    .dataframe tbody tr th:only-of-type {\n",
       "        vertical-align: middle;\n",
       "    }\n",
       "\n",
       "    .dataframe tbody tr th {\n",
       "        vertical-align: top;\n",
       "    }\n",
       "\n",
       "    .dataframe thead th {\n",
       "        text-align: right;\n",
       "    }\n",
       "</style>\n",
       "<table border=\"1\" class=\"dataframe\">\n",
       "  <thead>\n",
       "    <tr style=\"text-align: right;\">\n",
       "      <th></th>\n",
       "      <th>CASE_ID</th>\n",
       "      <th>CASE_PARTICIPANT_ID</th>\n",
       "      <th>RECEIVED_DATE</th>\n",
       "      <th>OFFENSE_CATEGORY</th>\n",
       "      <th>PRIMARY_CHARGE_FLAG</th>\n",
       "      <th>CHARGE_ID</th>\n",
       "      <th>CHARGE_VERSION_ID</th>\n",
       "      <th>DISPOSITION_CHARGED_OFFENSE_TITLE</th>\n",
       "      <th>CHARGE_COUNT</th>\n",
       "      <th>DISPOSITION_DATE</th>\n",
       "      <th>...</th>\n",
       "      <th>INCIDENT_CITY</th>\n",
       "      <th>INCIDENT_BEGIN_DATE</th>\n",
       "      <th>INCIDENT_END_DATE</th>\n",
       "      <th>LAW_ENFORCEMENT_AGENCY</th>\n",
       "      <th>LAW_ENFORCEMENT_UNIT</th>\n",
       "      <th>ARREST_DATE</th>\n",
       "      <th>FELONY_REVIEW_DATE</th>\n",
       "      <th>FELONY_REVIEW_RESULT</th>\n",
       "      <th>ARRAIGNMENT_DATE</th>\n",
       "      <th>UPDATED_OFFENSE_CATEGORY</th>\n",
       "    </tr>\n",
       "  </thead>\n",
       "  <tbody>\n",
       "    <tr>\n",
       "      <th>0</th>\n",
       "      <td>1.497650e+11</td>\n",
       "      <td>1.756910e+11</td>\n",
       "      <td>8/15/84 0:00</td>\n",
       "      <td>PROMIS Conversion</td>\n",
       "      <td>False</td>\n",
       "      <td>5.051011e+10</td>\n",
       "      <td>1.163040e+11</td>\n",
       "      <td>FIRST DEGREE MURDER</td>\n",
       "      <td>2</td>\n",
       "      <td>12/17/14 0:00</td>\n",
       "      <td>...</td>\n",
       "      <td>NaN</td>\n",
       "      <td>8/9/84 0:00</td>\n",
       "      <td>NaN</td>\n",
       "      <td>CHICAGO POLICE DEPT</td>\n",
       "      <td>NaN</td>\n",
       "      <td>8/15/84 0:00</td>\n",
       "      <td>8/15/84 0:00</td>\n",
       "      <td>Charge(S) Approved</td>\n",
       "      <td>9/21/84 0:00</td>\n",
       "      <td>Homicide</td>\n",
       "    </tr>\n",
       "    <tr>\n",
       "      <th>1</th>\n",
       "      <td>1.497650e+11</td>\n",
       "      <td>1.756910e+11</td>\n",
       "      <td>8/15/84 0:00</td>\n",
       "      <td>PROMIS Conversion</td>\n",
       "      <td>False</td>\n",
       "      <td>5.051021e+10</td>\n",
       "      <td>9.826507e+10</td>\n",
       "      <td>HOME INVASION</td>\n",
       "      <td>14</td>\n",
       "      <td>12/17/14 0:00</td>\n",
       "      <td>...</td>\n",
       "      <td>NaN</td>\n",
       "      <td>8/9/84 0:00</td>\n",
       "      <td>NaN</td>\n",
       "      <td>CHICAGO POLICE DEPT</td>\n",
       "      <td>NaN</td>\n",
       "      <td>8/15/84 0:00</td>\n",
       "      <td>8/15/84 0:00</td>\n",
       "      <td>Charge(S) Approved</td>\n",
       "      <td>9/21/84 0:00</td>\n",
       "      <td>Homicide</td>\n",
       "    </tr>\n",
       "    <tr>\n",
       "      <th>2</th>\n",
       "      <td>1.497650e+11</td>\n",
       "      <td>1.756910e+11</td>\n",
       "      <td>8/15/84 0:00</td>\n",
       "      <td>PROMIS Conversion</td>\n",
       "      <td>False</td>\n",
       "      <td>5.051645e+10</td>\n",
       "      <td>1.319730e+11</td>\n",
       "      <td>FIRST DEGREE MURDER</td>\n",
       "      <td>4</td>\n",
       "      <td>12/17/14 0:00</td>\n",
       "      <td>...</td>\n",
       "      <td>NaN</td>\n",
       "      <td>8/9/84 0:00</td>\n",
       "      <td>NaN</td>\n",
       "      <td>CHICAGO POLICE DEPT</td>\n",
       "      <td>NaN</td>\n",
       "      <td>8/15/84 0:00</td>\n",
       "      <td>8/15/84 0:00</td>\n",
       "      <td>Charge(S) Approved</td>\n",
       "      <td>9/21/84 0:00</td>\n",
       "      <td>Homicide</td>\n",
       "    </tr>\n",
       "    <tr>\n",
       "      <th>3</th>\n",
       "      <td>1.497650e+11</td>\n",
       "      <td>1.756910e+11</td>\n",
       "      <td>8/15/84 0:00</td>\n",
       "      <td>PROMIS Conversion</td>\n",
       "      <td>False</td>\n",
       "      <td>5.051650e+10</td>\n",
       "      <td>1.319660e+11</td>\n",
       "      <td>FIRST DEGREE MURDER</td>\n",
       "      <td>5</td>\n",
       "      <td>12/17/14 0:00</td>\n",
       "      <td>...</td>\n",
       "      <td>NaN</td>\n",
       "      <td>8/9/84 0:00</td>\n",
       "      <td>NaN</td>\n",
       "      <td>CHICAGO POLICE DEPT</td>\n",
       "      <td>NaN</td>\n",
       "      <td>8/15/84 0:00</td>\n",
       "      <td>8/15/84 0:00</td>\n",
       "      <td>Charge(S) Approved</td>\n",
       "      <td>9/21/84 0:00</td>\n",
       "      <td>Homicide</td>\n",
       "    </tr>\n",
       "    <tr>\n",
       "      <th>4</th>\n",
       "      <td>1.497650e+11</td>\n",
       "      <td>1.756910e+11</td>\n",
       "      <td>8/15/84 0:00</td>\n",
       "      <td>PROMIS Conversion</td>\n",
       "      <td>False</td>\n",
       "      <td>5.051665e+10</td>\n",
       "      <td>9.805964e+10</td>\n",
       "      <td>HOME INVASION</td>\n",
       "      <td>13</td>\n",
       "      <td>12/17/14 0:00</td>\n",
       "      <td>...</td>\n",
       "      <td>NaN</td>\n",
       "      <td>8/9/84 0:00</td>\n",
       "      <td>NaN</td>\n",
       "      <td>CHICAGO POLICE DEPT</td>\n",
       "      <td>NaN</td>\n",
       "      <td>8/15/84 0:00</td>\n",
       "      <td>8/15/84 0:00</td>\n",
       "      <td>Charge(S) Approved</td>\n",
       "      <td>9/21/84 0:00</td>\n",
       "      <td>Homicide</td>\n",
       "    </tr>\n",
       "  </tbody>\n",
       "</table>\n",
       "<p>5 rows × 41 columns</p>\n",
       "</div>"
      ],
      "text/plain": [
       "        CASE_ID  CASE_PARTICIPANT_ID RECEIVED_DATE   OFFENSE_CATEGORY  \\\n",
       "0  1.497650e+11         1.756910e+11  8/15/84 0:00  PROMIS Conversion   \n",
       "1  1.497650e+11         1.756910e+11  8/15/84 0:00  PROMIS Conversion   \n",
       "2  1.497650e+11         1.756910e+11  8/15/84 0:00  PROMIS Conversion   \n",
       "3  1.497650e+11         1.756910e+11  8/15/84 0:00  PROMIS Conversion   \n",
       "4  1.497650e+11         1.756910e+11  8/15/84 0:00  PROMIS Conversion   \n",
       "\n",
       "   PRIMARY_CHARGE_FLAG     CHARGE_ID  CHARGE_VERSION_ID  \\\n",
       "0                False  5.051011e+10       1.163040e+11   \n",
       "1                False  5.051021e+10       9.826507e+10   \n",
       "2                False  5.051645e+10       1.319730e+11   \n",
       "3                False  5.051650e+10       1.319660e+11   \n",
       "4                False  5.051665e+10       9.805964e+10   \n",
       "\n",
       "  DISPOSITION_CHARGED_OFFENSE_TITLE  CHARGE_COUNT DISPOSITION_DATE  ...  \\\n",
       "0               FIRST DEGREE MURDER             2    12/17/14 0:00  ...   \n",
       "1                     HOME INVASION            14    12/17/14 0:00  ...   \n",
       "2               FIRST DEGREE MURDER             4    12/17/14 0:00  ...   \n",
       "3               FIRST DEGREE MURDER             5    12/17/14 0:00  ...   \n",
       "4                     HOME INVASION            13    12/17/14 0:00  ...   \n",
       "\n",
       "  INCIDENT_CITY INCIDENT_BEGIN_DATE INCIDENT_END_DATE LAW_ENFORCEMENT_AGENCY  \\\n",
       "0           NaN         8/9/84 0:00               NaN    CHICAGO POLICE DEPT   \n",
       "1           NaN         8/9/84 0:00               NaN    CHICAGO POLICE DEPT   \n",
       "2           NaN         8/9/84 0:00               NaN    CHICAGO POLICE DEPT   \n",
       "3           NaN         8/9/84 0:00               NaN    CHICAGO POLICE DEPT   \n",
       "4           NaN         8/9/84 0:00               NaN    CHICAGO POLICE DEPT   \n",
       "\n",
       "  LAW_ENFORCEMENT_UNIT   ARREST_DATE FELONY_REVIEW_DATE FELONY_REVIEW_RESULT  \\\n",
       "0                  NaN  8/15/84 0:00       8/15/84 0:00   Charge(S) Approved   \n",
       "1                  NaN  8/15/84 0:00       8/15/84 0:00   Charge(S) Approved   \n",
       "2                  NaN  8/15/84 0:00       8/15/84 0:00   Charge(S) Approved   \n",
       "3                  NaN  8/15/84 0:00       8/15/84 0:00   Charge(S) Approved   \n",
       "4                  NaN  8/15/84 0:00       8/15/84 0:00   Charge(S) Approved   \n",
       "\n",
       "  ARRAIGNMENT_DATE UPDATED_OFFENSE_CATEGORY  \n",
       "0     9/21/84 0:00                 Homicide  \n",
       "1     9/21/84 0:00                 Homicide  \n",
       "2     9/21/84 0:00                 Homicide  \n",
       "3     9/21/84 0:00                 Homicide  \n",
       "4     9/21/84 0:00                 Homicide  \n",
       "\n",
       "[5 rows x 41 columns]"
      ]
     },
     "execution_count": 534,
     "metadata": {},
     "output_type": "execute_result"
    },
    {
     "name": "stdout",
     "output_type": "stream",
     "text": [
      "<class 'pandas.core.frame.DataFrame'>\n",
      "RangeIndex: 248146 entries, 0 to 248145\n",
      "Data columns (total 41 columns):\n",
      " #   Column                             Non-Null Count   Dtype  \n",
      "---  ------                             --------------   -----  \n",
      " 0   CASE_ID                            248146 non-null  float64\n",
      " 1   CASE_PARTICIPANT_ID                248146 non-null  float64\n",
      " 2   RECEIVED_DATE                      248146 non-null  object \n",
      " 3   OFFENSE_CATEGORY                   248146 non-null  object \n",
      " 4   PRIMARY_CHARGE_FLAG                248146 non-null  bool   \n",
      " 5   CHARGE_ID                          248146 non-null  float64\n",
      " 6   CHARGE_VERSION_ID                  248146 non-null  float64\n",
      " 7   DISPOSITION_CHARGED_OFFENSE_TITLE  248146 non-null  object \n",
      " 8   CHARGE_COUNT                       248146 non-null  int64  \n",
      " 9   DISPOSITION_DATE                   248146 non-null  object \n",
      " 10  DISPOSITION_CHARGED_CHAPTER        248146 non-null  object \n",
      " 11  DISPOSITION_CHARGED_ACT            242771 non-null  object \n",
      " 12  DISPOSITION_CHARGED_SECTION        242771 non-null  object \n",
      " 13  DISPOSITION_CHARGED_CLASS          248127 non-null  object \n",
      " 14  DISPOSITION_CHARGED_AOIC           248122 non-null  object \n",
      " 15  CHARGE_DISPOSITION                 248146 non-null  object \n",
      " 16  CHARGE_DISPOSITION_REASON          904 non-null     object \n",
      " 17  SENTENCE_JUDGE                     247404 non-null  object \n",
      " 18  SENTENCE_COURT_NAME                246761 non-null  object \n",
      " 19  SENTENCE_COURT_FACILITY            246216 non-null  object \n",
      " 20  SENTENCE_PHASE                     248146 non-null  object \n",
      " 21  SENTENCE_DATE                      248146 non-null  object \n",
      " 22  SENTENCE_TYPE                      248146 non-null  object \n",
      " 23  CURRENT_SENTENCE_FLAG              248146 non-null  bool   \n",
      " 24  COMMITMENT_TYPE                    246464 non-null  object \n",
      " 25  COMMITMENT_TERM                    246434 non-null  object \n",
      " 26  COMMITMENT_UNIT                    246434 non-null  object \n",
      " 27  LENGTH_OF_CASE_in_Days             229126 non-null  float64\n",
      " 28  AGE_AT_INCIDENT                    238359 non-null  float64\n",
      " 29  RACE                               246879 non-null  object \n",
      " 30  GENDER                             247337 non-null  object \n",
      " 31  INCIDENT_CITY                      228745 non-null  object \n",
      " 32  INCIDENT_BEGIN_DATE                239122 non-null  object \n",
      " 33  INCIDENT_END_DATE                  22008 non-null   object \n",
      " 34  LAW_ENFORCEMENT_AGENCY             239405 non-null  object \n",
      " 35  LAW_ENFORCEMENT_UNIT               76408 non-null   object \n",
      " 36  ARREST_DATE                        242981 non-null  object \n",
      " 37  FELONY_REVIEW_DATE                 171907 non-null  object \n",
      " 38  FELONY_REVIEW_RESULT               171907 non-null  object \n",
      " 39  ARRAIGNMENT_DATE                   229126 non-null  object \n",
      " 40  UPDATED_OFFENSE_CATEGORY           248146 non-null  object \n",
      "dtypes: bool(2), float64(6), int64(1), object(32)\n",
      "memory usage: 74.3+ MB\n"
     ]
    },
    {
     "data": {
      "text/plain": [
       "(248146, 41)"
      ]
     },
     "execution_count": 534,
     "metadata": {},
     "output_type": "execute_result"
    },
    {
     "data": {
      "text/plain": [
       "10173986"
      ]
     },
     "execution_count": 534,
     "metadata": {},
     "output_type": "execute_result"
    },
    {
     "data": {
      "text/plain": [
       "2"
      ]
     },
     "execution_count": 534,
     "metadata": {},
     "output_type": "execute_result"
    }
   ],
   "source": [
    "sentencing.head()\n",
    "sentencing.info()\n",
    "sentencing.shape\n",
    "sentencing.size\n",
    "sentencing.ndim"
   ]
  },
  {
   "cell_type": "markdown",
   "metadata": {},
   "source": [
    "# Part one: data cleaning/interpretation"
   ]
  },
  {
   "cell_type": "markdown",
   "metadata": {},
   "source": [
    "## 1.1: Understanding the unit of analysis (5 points)\n",
    "\n",
    "- Print the number of unique values for the following columns. Do so in a way that avoids copying/pasting code for \n",
    "the three:\n",
    "\n",
    "    - Cases (`CASE_ID`)\n",
    "    - People in that case (`CASE_PARTICIPANT_ID`)\n",
    "    - Charges (`CHARGE_ID`)\n",
    "\n",
    "- Write a couple sentences on the following and show an example of each (e.g., a case involving multiple people):\n",
    "    \n",
    "    - Why there are more unique people than unique cases?\n",
    "    - Why there are more unique charges than unique people?\n",
    "\n",
    "- Print the mean and median number of charges per case/participant \n",
    "\n",
    "- Print the mean and median number of participants per case\n",
    "\n",
    "- Does the data seem to enable us to follow the same defendant across different cases they're charged in? Write 1 sentence in support of your conclusion.\n"
   ]
  },
  {
   "cell_type": "code",
   "execution_count": 537,
   "metadata": {},
   "outputs": [
    {
     "name": "stdout",
     "output_type": "stream",
     "text": [
      "CASE_ID                 65457\n",
      "CASE_PARTICIPANT_ID    137953\n",
      "CHARGE_ID               79889\n",
      "dtype: int64\n",
      "CASE_ID       CASE_PARTICIPANT_ID  CHARGE_ID   \n",
      "4.213800e+11  8.280430e+11         4.066410e+11    20\n",
      "2.284780e+11  2.133390e+11         1.471540e+11    20\n",
      "                                   1.471250e+11    16\n",
      "4.162400e+11  8.114180e+11         3.968440e+11    15\n",
      "3.871600e+11  7.238070e+11         3.490850e+11    15\n",
      "Name: count, dtype: int64\n",
      "CASE_ID\n",
      "1.497650e+11    11\n",
      "1.500660e+11     6\n",
      "1.545250e+11     1\n",
      "1.549550e+11     1\n",
      "1.552230e+11     7\n",
      "                ..\n",
      "4.454240e+11     2\n",
      "4.455160e+11     1\n",
      "4.455270e+11     1\n",
      "4.455880e+11     1\n",
      "4.455930e+11     2\n",
      "Name: CHARGE_ID, Length: 65457, dtype: int64\n",
      "3.7909772827963395\n",
      "3.0\n",
      "1.798772045551746\n",
      "1.0\n",
      "3.7909772827963395\n",
      "3.0\n",
      "CASE_PARTICIPANT_ID\n",
      "1.303410e+11    2\n",
      "1.631180e+11    2\n",
      "1.770550e+11    2\n",
      "1.876540e+11    2\n",
      "1.880160e+11    2\n",
      "               ..\n",
      "8.977710e+11    2\n",
      "8.981990e+11    2\n",
      "8.984020e+11    2\n",
      "8.986680e+11    2\n",
      "8.988190e+11    2\n",
      "Name: CASE_ID, Length: 13780, dtype: int64\n"
     ]
    }
   ],
   "source": [
    "# Unique Values\n",
    "unique_values = sentencing[[\"CASE_ID\", \"CASE_PARTICIPANT_ID\", \"CHARGE_ID\"]].nunique()\n",
    "print(unique_values)\n",
    "values = sentencing[[\"CASE_ID\", \"CASE_PARTICIPANT_ID\", \"CHARGE_ID\"]].value_counts()\n",
    "print(values.head())\n",
    "# Cases\n",
    "# There are more unique people than unique cases because each case can include more than one individual. \n",
    "# For example, a crime with multiple people involved could lead to more participants in one case, like with an aggravated assault case that includes multiple perpetrators.\n",
    "# An example in the code is shown in the second row of values.head() above, which includes the same case number but differing participant numbers.\n",
    "# There could be more unique charges than unique people because a single person can face multiple charges in a single case such as with the case below: \n",
    "# For example, being charged with trespassing and robbery in one case trial.\n",
    "\n",
    "#Mean and median of charges per case\n",
    "charges_case = sentencing.groupby(\"CASE_ID\")[\"CHARGE_ID\"].count()\n",
    "print(charges_case)\n",
    "mean_charges_case = charges_case.mean()\n",
    "median_charges_case = charges_case.median()\n",
    "\n",
    "print(mean_charges_case)\n",
    "print(median_charges_case)\n",
    "#per participant\n",
    "charges_participant = sentencing.groupby(\"CASE_PARTICIPANT_ID\")[\"CHARGE_ID\"].count()\n",
    "mean_charges_participant = charges_participant.mean()\n",
    "median_charges_participant = charges_participant.median()\n",
    "\n",
    "print(mean_charges_participant)\n",
    "print(median_charges_participant)\n",
    "#participants per case\n",
    "participants_case = sentencing.groupby(\"CASE_ID\")[\"CASE_PARTICIPANT_ID\"].count()\n",
    "mean_participants_case = participants_case.mean()\n",
    "median_participants_case = participants_case.median()\n",
    "\n",
    "print(mean_participants_case)\n",
    "print(median_participants_case)\n",
    "#Data following\n",
    "# Yes, the data seems to enable us to follow a defendant because the same case participant ID applies to multiple cases, which we can also observe because there are participant IDs below that appear in more than one case ID; this can also be thought of us as multiple cases per participant.\n",
    "cases_participant = sentencing.groupby('CASE_PARTICIPANT_ID')['CASE_ID'].nunique()\n",
    "multiple_cases = cases_participant[cases_participant > 1]\n",
    "print(multiple_cases)\n"
   ]
  },
  {
   "cell_type": "markdown",
   "metadata": {},
   "source": [
    "## 1.2.1: Which offense is final? (3 points)\n",
    "\n",
    "- First, read the data documentation [link](https://datacatalog.cookcountyil.gov/api/views/tg8v-tm6u/files/8597cdda-f7e1-44d1-b0ce-0a4e43f8c980?download=true&filename=CCSAO%20Data%20Glossary.pdf) and summarize in your own words the differences between `OFFENSE_CATEGORY` and `UPDATED_OFFENSE_CATEGORY` \n",
    "\n",
    "- Construct an indicator `is_changed_offense` that's True for case-participant-charge observations (rows) where there's a difference between the original charge (offense category) and the most current charge (updated offense category). What are some of the more common changed offenses? (can just print result of sort_values based on original offense category)\n",
    "\n",
    "- Print one example of a changed offense from one of these categories and comment on what the reason may be\n"
   ]
  },
  {
   "cell_type": "markdown",
   "metadata": {},
   "source": [
    "Difference:  Offense category is the initial category of charge while Updated is the final classification of the crime based on the \"primary,\" or main charge."
   ]
  },
  {
   "cell_type": "code",
   "execution_count": 540,
   "metadata": {},
   "outputs": [
    {
     "data": {
      "text/plain": [
       "OFFENSE_CATEGORY\n",
       "PROMIS Conversion               6394\n",
       "DUI                             3896\n",
       "UUW - Unlawful Use of Weapon    2155\n",
       "Other Offense                   2125\n",
       "Aggravated Battery              1927\n",
       "Name: count, dtype: int64"
      ]
     },
     "execution_count": 540,
     "metadata": {},
     "output_type": "execute_result"
    },
    {
     "data": {
      "text/html": [
       "<div>\n",
       "<style scoped>\n",
       "    .dataframe tbody tr th:only-of-type {\n",
       "        vertical-align: middle;\n",
       "    }\n",
       "\n",
       "    .dataframe tbody tr th {\n",
       "        vertical-align: top;\n",
       "    }\n",
       "\n",
       "    .dataframe thead th {\n",
       "        text-align: right;\n",
       "    }\n",
       "</style>\n",
       "<table border=\"1\" class=\"dataframe\">\n",
       "  <thead>\n",
       "    <tr style=\"text-align: right;\">\n",
       "      <th></th>\n",
       "      <th>CASE_ID</th>\n",
       "      <th>OFFENSE_CATEGORY</th>\n",
       "      <th>UPDATED_OFFENSE_CATEGORY</th>\n",
       "      <th>CHARGE_ID</th>\n",
       "    </tr>\n",
       "  </thead>\n",
       "  <tbody>\n",
       "    <tr>\n",
       "      <th>161337</th>\n",
       "      <td>4.141310e+11</td>\n",
       "      <td>Aggravated Assault Police Officer</td>\n",
       "      <td>Attempt Homicide</td>\n",
       "      <td>3.933530e+11</td>\n",
       "    </tr>\n",
       "    <tr>\n",
       "      <th>231526</th>\n",
       "      <td>4.329330e+11</td>\n",
       "      <td>Aggravated Assault Police Officer</td>\n",
       "      <td>Criminal Damage to Property</td>\n",
       "      <td>4.282790e+11</td>\n",
       "    </tr>\n",
       "    <tr>\n",
       "      <th>204443</th>\n",
       "      <td>4.246550e+11</td>\n",
       "      <td>Aggravated Assault Police Officer</td>\n",
       "      <td>Criminal Damage to Property</td>\n",
       "      <td>4.128460e+11</td>\n",
       "    </tr>\n",
       "    <tr>\n",
       "      <th>204444</th>\n",
       "      <td>4.246550e+11</td>\n",
       "      <td>Aggravated Assault Police Officer</td>\n",
       "      <td>Criminal Damage to Property</td>\n",
       "      <td>4.128460e+11</td>\n",
       "    </tr>\n",
       "  </tbody>\n",
       "</table>\n",
       "</div>"
      ],
      "text/plain": [
       "             CASE_ID                   OFFENSE_CATEGORY  \\\n",
       "161337  4.141310e+11  Aggravated Assault Police Officer   \n",
       "231526  4.329330e+11  Aggravated Assault Police Officer   \n",
       "204443  4.246550e+11  Aggravated Assault Police Officer   \n",
       "204444  4.246550e+11  Aggravated Assault Police Officer   \n",
       "\n",
       "           UPDATED_OFFENSE_CATEGORY     CHARGE_ID  \n",
       "161337             Attempt Homicide  3.933530e+11  \n",
       "231526  Criminal Damage to Property  4.282790e+11  \n",
       "204443  Criminal Damage to Property  4.128460e+11  \n",
       "204444  Criminal Damage to Property  4.128460e+11  "
      ]
     },
     "execution_count": 540,
     "metadata": {},
     "output_type": "execute_result"
    }
   ],
   "source": [
    "\n",
    "sentencing[\"is_changed_offense\"] = sentencing[\"OFFENSE_CATEGORY\"] != sentencing[\"UPDATED_OFFENSE_CATEGORY\"]\n",
    "\n",
    "changing_offenses = sentencing[sentencing[\"is_changed_offense\"]]\n",
    "common_changed = changing_offenses[\"OFFENSE_CATEGORY\"].value_counts()\n",
    "common_changed.head()\n",
    "\n",
    "example = changing_offenses.sort_values('OFFENSE_CATEGORY').iloc[0:4]\n",
    "\n",
    "example[['CASE_ID', 'OFFENSE_CATEGORY', 'UPDATED_OFFENSE_CATEGORY', 'CHARGE_ID']]\n"
   ]
  },
  {
   "cell_type": "markdown",
   "metadata": {},
   "source": [
    "Above we have printed out the examples of an offense that originally was \"Aggravated Assault Police Officer\" but it was updated \n",
    "to \"Attempt Homicide\". The reason for this could be that new evidence or testimony came to light showing that the assault was\n",
    "more serious than initially believed. For example, if the defendant used a weapon or had intent to kill, \n",
    "the charge may have then been changed from aggravated assault to attempted homicide. Further, the updated category is based on the primary charge, which is most likely the most serious charge and which may fall under the homicide category."
   ]
  },
  {
   "cell_type": "markdown",
   "metadata": {},
   "source": [
    "## 1.2.2: Simplifying the charges (5 points)\n",
    "\n",
    "Using the field (`UPDATED_OFFENSE_CATEGORY`), create a new field, `simplified_offense_derived`, that simplifies the many offense categories into broader buckets using the following process:\n",
    "\n",
    "First, combine all offenses beginning with \"Aggravated\" into a single category without that prefix (e.g., Aggravated Battery and Battery just becomes Battery)\n",
    "\n",
    "Then:\n",
    "- Combine all offenses with arson into a single arson category (`Arson`)\n",
    "- Combine all offenses with homicide into a single homicide category (`Homicide`)\n",
    "- Combine all offenses with vehicle/vehicular in the name into a single vehicle category (`Vehicle-related`)\n",
    "- Combine all offenses with battery in the name into a single battery category (`Battery`)\n",
    "\n",
    "Try to do so efficiently (e.g., using map and a dictionary or np.select rather than separate line for each recoded offense)\n",
    "\n",
    "Print the difference between the # of unique offenses in the original `UPDATED_OFFENSE_CATEGORY` field and the # of unique offenses in your new `simplified_offense_derived` field\n"
   ]
  },
  {
   "cell_type": "code",
   "execution_count": 585,
   "metadata": {},
   "outputs": [
    {
     "name": "stdout",
     "output_type": "stream",
     "text": [
      "                         UPDATED_OFFENSE_CATEGORY  \\\n",
      "0                                        Homicide   \n",
      "1                                        Homicide   \n",
      "2                                        Homicide   \n",
      "3                                        Homicide   \n",
      "4                                        Homicide   \n",
      "...                                           ...   \n",
      "248141               UUW - Unlawful Use of Weapon   \n",
      "248142                           Domestic Battery   \n",
      "248143  Driving With Suspended Or Revoked License   \n",
      "248144  Driving With Suspended Or Revoked License   \n",
      "248145  Driving With Suspended Or Revoked License   \n",
      "\n",
      "                       simplified_offense_derived  \n",
      "0                                        Homicide  \n",
      "1                                        Homicide  \n",
      "2                                        Homicide  \n",
      "3                                        Homicide  \n",
      "4                                        Homicide  \n",
      "...                                           ...  \n",
      "248141               UUW - Unlawful Use of Weapon  \n",
      "248142                           Domestic Battery  \n",
      "248143  Driving With Suspended Or Revoked License  \n",
      "248144  Driving With Suspended Or Revoked License  \n",
      "248145  Driving With Suspended Or Revoked License  \n",
      "\n",
      "[248127 rows x 2 columns]\n",
      "                         UPDATED_OFFENSE_CATEGORY  \\\n",
      "0                                        Homicide   \n",
      "1                                        Homicide   \n",
      "2                                        Homicide   \n",
      "3                                        Homicide   \n",
      "4                                        Homicide   \n",
      "...                                           ...   \n",
      "248141               UUW - Unlawful Use of Weapon   \n",
      "248142                           Domestic Battery   \n",
      "248143  Driving With Suspended Or Revoked License   \n",
      "248144  Driving With Suspended Or Revoked License   \n",
      "248145  Driving With Suspended Or Revoked License   \n",
      "\n",
      "                       simplified_offense_derived  \n",
      "0                                        Homicide  \n",
      "1                                        Homicide  \n",
      "2                                        Homicide  \n",
      "3                                        Homicide  \n",
      "4                                        Homicide  \n",
      "...                                           ...  \n",
      "248141               UUW - Unlawful Use of Weapon  \n",
      "248142                                    Battery  \n",
      "248143  Driving With Suspended Or Revoked License  \n",
      "248144  Driving With Suspended Or Revoked License  \n",
      "248145  Driving With Suspended Or Revoked License  \n",
      "\n",
      "[248127 rows x 2 columns]\n",
      "11\n"
     ]
    }
   ],
   "source": [
    "sentencing['simplified_offense_derived'] = sentencing['UPDATED_OFFENSE_CATEGORY'].str.replace(\"Aggravated \", \" \", regex = False)\n",
    "cats = [\"Arson\", \"Homicide\", \"Vehicle-related\", \"Battery\"]\n",
    "conditions = [sentencing[\"UPDATED_OFFENSE_CATEGORY\"].str.contains(\"arson\", case = False, na = False),\n",
    "              sentencing[\"UPDATED_OFFENSE_CATEGORY\"].str.contains(\"homicide\", case = False, na = False),\n",
    "              sentencing[\"UPDATED_OFFENSE_CATEGORY\"].str.contains(\"vehicle|vehicular\", case = False, na = False),\n",
    "              sentencing[\"UPDATED_OFFENSE_CATEGORY\"].str.contains(\"battery\", case = False, na = False)]\n",
    "\n",
    "print(sentencing[['UPDATED_OFFENSE_CATEGORY', 'simplified_offense_derived']])\n",
    "\n",
    "sentencing[\"simplified_offense_derived\"] = np.select(conditions, cats, default = sentencing[\"UPDATED_OFFENSE_CATEGORY\"])\n",
    "\n",
    "print(sentencing[['UPDATED_OFFENSE_CATEGORY', 'simplified_offense_derived']])\n",
    "\n",
    "original_offenses = sentencing['UPDATED_OFFENSE_CATEGORY'].nunique()\n",
    "simplified_offenses = sentencing['simplified_offense_derived'].nunique()\n",
    "\n",
    "print(original_offenses - simplified_offenses)"
   ]
  },
  {
   "cell_type": "markdown",
   "metadata": {},
   "source": [
    "## 1.3: Cleaning additional variables (10 points)\n",
    "\n",
    "Clean the following variables; make sure to retain the original variable in data and use the derived suffix so it's easier to pull these cleaned out variables later (e.g., `age_derived`) to indicate this was a transformation\n",
    "\n",
    "- Race: create True/false indicators for `is_black_derived` (Black only or mixed race with hispanic), Non-Black Hispanic, so either hispanic alone or white hispanic (`is_hisp_derived`), White non-hispanic (`is_white_derived`), or none of the above (`is_othereth_derived`)\n",
    "\n",
    "- Gender: create a boolean true/false indicator for `is_male_derived` (false is female, unknown, or other)\n",
    "\n",
    "- Age at incident: you notice outliers like 130-year olds. Winsorsize the top 0.01% of values to be equal to the 99.99th percentile value pre-winsorization. Call this `age_derived`\n",
    "\n",
    "- Create `sentenceymd_derived` that's a version of `SENTENCING_DATE` converted to datetime format. Also create a rounded version, `sentenceym_derived`, that's rounded down to the first of the month and the year (e.g., 01-05-2016 and 01-27-2016 each become 01-01-2016)\n",
    "    - Hint: all timestamps are midnight so u can strip in conversion. For full credit, before converting, you notice that some of the years have been mistranscribed (e.g., 291X or 221X instead of 201X). Programatically fix those (eg 2914 -> 2014). Even after cleaning, there will still be some that are after the year 2021 that we'll filter out later. For partial credit, you can ignore the timestamps that cause errors and set errors = \"coerce\" within `pd.to_datetime()` to allow the conversion to proceed. \n",
    "\n",
    "- Sentencing judge: create an identifier (`judgeid_derived`) for each unique judge (`SENTENCE_JUDGE`) structured as judge_1, judge_2...., with the order determined by sorting the judges (will sort on fname then last). When finding unique judges, there are various duplicates we could weed out --- for now, just focus on (1) the different iterations of Doug/Douglas Simpson, (2) the different iterations of Shelley Sutker (who appears both with her maiden name and her hyphenated married name). \n",
    "     - Hint: due to mixed types, you may need to cast the `SENTENCE_JUDGE` var to a diff type to sort\n",
    "\n",
    "After finishing, print a random sample of 10 rows (data.sample(n = 10)) with the original and cleaned columns for the relevant variables to validate your work"
   ]
  },
  {
   "cell_type": "code",
   "execution_count": 609,
   "metadata": {},
   "outputs": [
    {
     "name": "stdout",
     "output_type": "stream",
     "text": [
      "['Black' 'White [Hispanic or Latino]' 'White' 'HISPANIC' nan 'ASIAN'\n",
      " 'White/Black [Hispanic or Latino]' 'Asian' 'American Indian' 'Unknown'\n",
      " 'Biracial']\n",
      "['1986-06-02' '2014-10-16' '1992-03-25' ... '2021-12-15' '2021-05-25'\n",
      " '2021-03-31']\n",
      "        CASE_ID  CASE_PARTICIPANT_ID RECEIVED_DATE   OFFENSE_CATEGORY  \\\n",
      "0  1.497650e+11         1.756910e+11  8/15/84 0:00  PROMIS Conversion   \n",
      "1  1.497650e+11         1.756910e+11  8/15/84 0:00  PROMIS Conversion   \n",
      "2  1.497650e+11         1.756910e+11  8/15/84 0:00  PROMIS Conversion   \n",
      "3  1.497650e+11         1.756910e+11  8/15/84 0:00  PROMIS Conversion   \n",
      "4  1.497650e+11         1.756910e+11  8/15/84 0:00  PROMIS Conversion   \n",
      "\n",
      "   PRIMARY_CHARGE_FLAG     CHARGE_ID  CHARGE_VERSION_ID  \\\n",
      "0                False  5.051011e+10       1.163040e+11   \n",
      "1                False  5.051021e+10       9.826507e+10   \n",
      "2                False  5.051645e+10       1.319730e+11   \n",
      "3                False  5.051650e+10       1.319660e+11   \n",
      "4                False  5.051665e+10       9.805964e+10   \n",
      "\n",
      "  DISPOSITION_CHARGED_OFFENSE_TITLE  CHARGE_COUNT DISPOSITION_DATE  ...  \\\n",
      "0               FIRST DEGREE MURDER             2    12/17/14 0:00  ...   \n",
      "1                     HOME INVASION            14    12/17/14 0:00  ...   \n",
      "2               FIRST DEGREE MURDER             4    12/17/14 0:00  ...   \n",
      "3               FIRST DEGREE MURDER             5    12/17/14 0:00  ...   \n",
      "4                     HOME INVASION            13    12/17/14 0:00  ...   \n",
      "\n",
      "  is_black_derived is_hisp_derived is_white_derived is_othereth_derived  \\\n",
      "0             True           False            False               False   \n",
      "1             True           False            False               False   \n",
      "2             True           False            False               False   \n",
      "3             True           False            False               False   \n",
      "4             True           False            False               False   \n",
      "\n",
      "  is_male_derived age_derived sentenceymd_derived sentenceym_derived  \\\n",
      "0            True        27.0          1986-06-02         1986-06-01   \n",
      "1            True        27.0          1986-06-02         1986-06-01   \n",
      "2            True        27.0          1986-06-02         1986-06-01   \n",
      "3            True        27.0          1986-06-02         1986-06-01   \n",
      "4            True        27.0          2014-10-16         2014-10-01   \n",
      "\n",
      "  SENTENCE_JUDGE_UNIQUE judgeid_derived  \n",
      "0         John  Mannion       judge_140  \n",
      "1         John  Mannion       judge_140  \n",
      "2         John  Mannion       judge_140  \n",
      "3         John  Mannion       judge_140  \n",
      "4     Clayton Jay Crane        judge_41  \n",
      "\n",
      "[5 rows x 53 columns]\n",
      "                              RACE  is_black_derived  is_hisp_derived  \\\n",
      "194559  White [Hispanic or Latino]             False             True   \n",
      "183202                       Black              True            False   \n",
      "166769                       Black              True            False   \n",
      "179760                       Black              True            False   \n",
      "165407                       Black              True            False   \n",
      "99421                        Black              True            False   \n",
      "111626                       White             False            False   \n",
      "78500                        Black              True            False   \n",
      "7206                           NaN             False            False   \n",
      "109772                       Black              True            False   \n",
      "\n",
      "        is_white_derived  is_othereth_derived  GENDER  is_male_derived  \\\n",
      "194559             False                False    Male             True   \n",
      "183202             False                False    Male             True   \n",
      "166769             False                False    Male             True   \n",
      "179760             False                False    Male             True   \n",
      "165407             False                False  Female            False   \n",
      "99421              False                False    Male             True   \n",
      "111626              True                False    Male             True   \n",
      "78500              False                False    Male             True   \n",
      "7206               False                 True    Male             True   \n",
      "109772             False                False    Male             True   \n",
      "\n",
      "        AGE_AT_INCIDENT  age_derived SENTENCE_DATE sentenceym_derived  \\\n",
      "194559             29.0         29.0    2018-03-02         2018-03-01   \n",
      "183202             55.0         55.0    2016-11-14         2016-11-01   \n",
      "166769             24.0         24.0    2016-07-15         2016-07-01   \n",
      "179760             49.0         49.0    2018-07-23         2018-07-01   \n",
      "165407             42.0         42.0    2016-01-04         2016-01-01   \n",
      "99421              28.0         28.0    2014-04-09         2014-04-01   \n",
      "111626             42.0         42.0    2015-07-30         2015-07-01   \n",
      "78500              20.0         20.0    2012-11-09         2012-11-01   \n",
      "7206               25.0         25.0    2014-07-23         2014-07-01   \n",
      "109772             21.0         21.0    2013-10-09         2013-10-01   \n",
      "\n",
      "            SENTENCE_JUDGE judgeid_derived  \n",
      "194559    Pamela A Leeming       judge_238  \n",
      "183202       Thomas M Davy       judge_305  \n",
      "166769      Neil J Linehan       judge_235  \n",
      "179760      Stanley  Sacks       judge_284  \n",
      "165407     Thomas V Gainer       judge_311  \n",
      "99421         Neera  Walsh       judge_233  \n",
      "111626    Michael B McHale       judge_223  \n",
      "78500   Colleen Ann Hyland        judge_42  \n",
      "7206    Frank G Zelezinski        judge_88  \n",
      "109772      Carol M Howard        judge_32  \n"
     ]
    }
   ],
   "source": [
    "# check the categories\n",
    "race_cats = sentencing[\"RACE\"].unique()\n",
    "print(race_cats)\n",
    "# race derived\n",
    "sentencing['is_black_derived'] = (sentencing[\"RACE\"] == \"Black\") | (sentencing[\"RACE\"] == \"White/Black [Hispanic or Latino]\")\n",
    "sentencing['is_hisp_derived'] = (sentencing[\"RACE\"] == \"Hispanic\") | (sentencing[\"RACE\"] == \"White [Hispanic or Latino]\")\n",
    "sentencing['is_white_derived'] = (sentencing[\"RACE\"] == \"White\")\n",
    "sentencing['is_othereth_derived'] = ~(sentencing['is_black_derived'] | sentencing['is_hisp_derived'] | sentencing['is_white_derived'])\n",
    "\n",
    "# gender derived\n",
    "sentencing['is_male_derived'] = sentencing[\"GENDER\"] == \"Male\"\n",
    "\n",
    "# age derived\n",
    "winsor = sentencing[\"AGE_AT_INCIDENT\"].quantile(0.9999)\n",
    "sentencing['age_derived'] = np.where(sentencing['AGE_AT_INCIDENT'] > winsor, winsor, sentencing['AGE_AT_INCIDENT'])\n",
    "\n",
    "# years\n",
    "year_cats = sentencing['SENTENCE_DATE'].unique()\n",
    "print(year_cats)\n",
    "sentencing['SENTENCE_DATE'] = sentencing['SENTENCE_DATE'].astype(str)\n",
    "year_glitches = {\n",
    "    '291': '201', '221': '201', \n",
    "    '210': '200', '220': '200',\n",
    "    '230': '200', '240': '200',\n",
    "    '250': '200', '260': '200',\n",
    "    '270': '200', '280': '200',\n",
    "    '290': '200'}\n",
    "\n",
    "for old, new in year_glitches.items():\n",
    "    sentencing['SENTENCE_DATE'] = sentencing['SENTENCE_DATE'].str.replace(old, new, regex=False)\n",
    "sentencing['sentenceymd_derived'] = pd.to_datetime(sentencing['SENTENCE_DATE'], errors='coerce')\n",
    "sentencing['sentenceym_derived'] = sentencing['sentenceymd_derived'].dt.to_period('M').dt.to_timestamp()\n",
    "\n",
    "num_invalid_dates = sentencing['sentenceymd_derived'].isna().sum()\n",
    "sentencing = sentencing[sentencing['sentenceymd_derived'].dt.year <= 2021]\n",
    "print(sentencing.head())\n",
    "\n",
    "# judge ids\n",
    "def unique_judges(judge_name):\n",
    "    if pd.isna(judge_name):\n",
    "        return judge_name\n",
    "    if 'Doug' in judge_name or 'Douglas' in judge_name and 'Simpson' in judge_name:\n",
    "        return 'Douglas Simpson'\n",
    "    if 'Shelley' in judge_name and ('Sutker' in judge_name or 'Sutker-Dermer' in judge_name):\n",
    "        return 'Shelley Sutker'\n",
    "    return judge_name\n",
    "sentencing['SENTENCE_JUDGE_UNIQUE'] = sentencing['SENTENCE_JUDGE'].apply(unique_judges)\n",
    "sentencing['SENTENCE_JUDGE_UNIQUE'] = sentencing['SENTENCE_JUDGE_UNIQUE'].astype(str)\n",
    "judge_standard = sentencing['SENTENCE_JUDGE_UNIQUE'].dropna().sort_values().unique()\n",
    "judge_id_mapping = {judge: f'judge_{i+1}' for i, judge in enumerate(judge_standard)}\n",
    "sentencing['judgeid_derived'] = sentencing['SENTENCE_JUDGE_UNIQUE'].map(judge_id_mapping)\n",
    "\n",
    "# printing a random sample\n",
    "print(sentencing.sample(n=10)[['RACE', 'is_black_derived', 'is_hisp_derived', 'is_white_derived', \n",
    "                                  'is_othereth_derived', 'GENDER', 'is_male_derived', 'AGE_AT_INCIDENT', 'age_derived', \n",
    "                                  'SENTENCE_DATE', 'sentenceym_derived', 'SENTENCE_JUDGE', 'judgeid_derived']])\n",
    "\n",
    "\n"
   ]
  },
  {
   "cell_type": "markdown",
   "metadata": {},
   "source": [
    "## 1.4: Subsetting rows to analytic dataset (5 points)\n",
    "\n",
    "You decide based on the above to simplify things in the following ways:\n",
    "    \n",
    "- Subset to cases where only one participant is charged, since cases with >1 participant might have complications like \n",
    "plea bargains/informing from other participants affecting the sentencing of the focal participant\n",
    "\n",
    "- To go from a participant-case level dataset, where each participant is repeated across charges tied to the case, to a participant-level dataset, where each participant has one charge, subset to a participant's primary charge and their current sentence (`PRIMARY_CHARGE_FLAG` is True and `CURRENT_SENTENCE_FLAG` is True). Double check that this worked by confirming there are no longer multiple charges for the same case-participant\n",
    "\n",
    "- Filter out observations where judge is nan or nonsensical (indicated by is.null or equal to FLOOD)\n",
    "\n",
    "- Subset to sentencing date between 01-01-2012 and 04-05-2021 (inclusive)\n",
    "\n",
    "After completing these steps, print the number of rows in the data"
   ]
  },
  {
   "cell_type": "code",
   "execution_count": 547,
   "metadata": {},
   "outputs": [
    {
     "name": "stderr",
     "output_type": "stream",
     "text": [
      "/var/folders/tj/gn0fs7tx6ml_jnjbzkw10wpr0000gn/T/ipykernel_35739/3067437596.py:4: UserWarning: Boolean Series key will be reindexed to match DataFrame index.\n",
      "  sentencing_single = (sentencing[sentencing['CASE_ID'].isin(single_charge)]\n",
      "/var/folders/tj/gn0fs7tx6ml_jnjbzkw10wpr0000gn/T/ipykernel_35739/3067437596.py:9: UserWarning: Could not infer format, so each element will be parsed individually, falling back to `dateutil`. To ensure parsing is consistent and as-expected, please specify a format.\n",
      "  sentencing['SENTENCE_DATE'] = pd.to_datetime(sentencing['SENTENCE_DATE'], errors='coerce')\n"
     ]
    },
    {
     "name": "stdout",
     "output_type": "stream",
     "text": [
      "Final sentences filtered: 13747\n"
     ]
    },
    {
     "name": "stderr",
     "output_type": "stream",
     "text": [
      "/var/folders/tj/gn0fs7tx6ml_jnjbzkw10wpr0000gn/T/ipykernel_35739/3067437596.py:12: UserWarning: Boolean Series key will be reindexed to match DataFrame index.\n",
      "  sentencing_single = sentencing_single[\n"
     ]
    }
   ],
   "source": [
    "\n",
    "single_charge = sentencing.groupby('CASE_ID')['CASE_PARTICIPANT_ID'].nunique()\n",
    "single_charge = single_charge[single_charge == 1].index\n",
    "\n",
    "sentencing_single = (sentencing[sentencing['CASE_ID'].isin(single_charge)]\n",
    "                     [(sentencing['PRIMARY_CHARGE_FLAG'] == True) & \n",
    "                      (sentencing['CURRENT_SENTENCE_FLAG'] == True) &\n",
    "                      (~sentencing['SENTENCE_JUDGE'].isnull()) &\n",
    "                      (sentencing['SENTENCE_JUDGE'] != 'FLOOD')])\n",
    "sentencing['SENTENCE_DATE'] = pd.to_datetime(sentencing['SENTENCE_DATE'], errors='coerce')\n",
    "\n",
    "\n",
    "sentencing_single = sentencing_single[\n",
    "    (sentencing['sentenceymd_derived'] >= pd.to_datetime('2012-01-01')) &\n",
    "    (sentencing['sentenceymd_derived'] <= pd.to_datetime('2021-04-05'))\n",
    "]\n",
    "print(\"Final sentences filtered:\", len(sentencing_single))\n"
   ]
  },
  {
   "cell_type": "markdown",
   "metadata": {},
   "source": [
    "# Part two: investigating Black vs. White sentencing disparities\n",
    "\n",
    "Now that the data are cleaned, we're going to investigate different types of disparities in sentencing between Black defendants and White defendants. We're focusing on these groups for the purpose of the problem set, but the analysis could be extended to study Hispanic defendants or, in a different jurisdiction, Asian and other minoritized groups.\n",
    "\n",
    "**Details if interested in digging deeper**: If interested (optional), you can read more technical coverage of how we might (1) measure disparities, and (2) what factors you want to adjust for when deciding whether two defendants are 'similarly situated' but for their race in the following sources:\n",
    "\n",
    "- [Review of sentencing disparities research](https://www.journals.uchicago.edu/doi/full/10.1086/701505)\n",
    "- [Discussion of causal model/blinding race at charging stage of the prosecutorial process](https://5harad.com/papers/blind-charging.pdf)\n",
    "- [Discussion of measuring discrimination in policing that can generalize to the sentencing case](https://www.annualreviews.org/doi/abs/10.1146/annurev-criminol-011518-024731)\n",
    "- [General discussion of causal challenges in measuring between-group disparities](https://osf.io/preprints/socarxiv/gx4y3/)\n",
    "\n",
    "**One major caveat**: when investigating whether two similar defendants received different sentences, we're missing one important attribute that influences sentencing: the defendant's criminal history. This influences sentencing both through sentencing guidelines, which can prescribe longer sentences for those who have certain types of prior convictions, and through judicial discretion if judges are more lenient with first-time defendants. The above sources discuss how much we want to \"control away\" for this prior history, since if we think there are racial biases in which defendants, conditional on *committing* a crime, are arrested and charged, we may not want to adjust for that factor. More discussion [in this article](https://www.themarshallproject.org/2019/12/03/the-growing-racial-disparity-in-prison-time)\n"
   ]
  },
  {
   "cell_type": "markdown",
   "metadata": {},
   "source": [
    "## 2.0: (0 points)"
   ]
  },
  {
   "cell_type": "markdown",
   "metadata": {},
   "source": [
    "First, read in the following dataset (regardless of progress on part one): `sentencing_cleaned.pkl` (if you can't read in the pkl you can read in the .csv format but may need to recast some of the datetime columns)\n",
    "\n",
    "*Note*: don't worry if there are slight differences in your output from Part One and this dataset/it's not a good use of time to try to reverse engineer Part One answers from this cleaned data."
   ]
  },
  {
   "cell_type": "code",
   "execution_count": 551,
   "metadata": {},
   "outputs": [
    {
     "name": "stdout",
     "output_type": "stream",
     "text": [
      "         CASE_ID  CASE_PARTICIPANT_ID          RECEIVED_DATE  \\\n",
      "9   149765331439         175691153649  8/15/1984 12:00:00 AM   \n",
      "16  150065796098         162105612284  8/23/1984 12:00:00 AM   \n",
      "18  154954734978         225758446387   6/8/2001 12:00:00 AM   \n",
      "19  155222744754         217349881776  1/31/2001 12:00:00 AM   \n",
      "26  155327892699         217212381455   2/6/2001 12:00:00 AM   \n",
      "\n",
      "     OFFENSE_CATEGORY  PRIMARY_CHARGE_FLAG    CHARGE_ID  CHARGE_VERSION_ID  \\\n",
      "9   PROMIS Conversion                 True  50510062193       112898098217   \n",
      "16  PROMIS Conversion                 True  50792360681       113332130159   \n",
      "18  PROMIS Conversion                 True  54885211141       174293345821   \n",
      "19  PROMIS Conversion                 True  53899906462       280120721775   \n",
      "26  PROMIS Conversion                 True  53938518259       164877860811   \n",
      "\n",
      "                    DISPOSITION_CHARGED_OFFENSE_TITLE  CHARGE_COUNT  \\\n",
      "9                                 FIRST DEGREE MURDER             1   \n",
      "16                                FIRST DEGREE MURDER             1   \n",
      "18                              VIO BAIL BOND/CLASS 1             1   \n",
      "19                    POSS AMT CON SUB EXCEPT (A)/(D)             1   \n",
      "26  DUI LIC SUSPENDED OR REVOKED (EFFECTIVE 4-13-2...             1   \n",
      "\n",
      "          DISPOSITION_DATE  ... simplified_offense_derived is_black_derived  \\\n",
      "9   12/17/2014 12:00:00 AM  ...                   Homicide             True   \n",
      "16    8/6/2014 12:00:00 AM  ...                   Homicide             True   \n",
      "18   12/2/2013 12:00:00 AM  ...          PROMIS Conversion            False   \n",
      "19   9/10/2012 12:00:00 AM  ...                  Narcotics             True   \n",
      "26   9/19/2014 12:00:00 AM  ...          PROMIS Conversion            False   \n",
      "\n",
      "   is_hisp_derived is_white_derived is_other_derived is_male_derived  \\\n",
      "9            False            False            False            True   \n",
      "16           False            False            False            True   \n",
      "18            True            False            False            True   \n",
      "19           False            False            False           False   \n",
      "26           False             True            False            True   \n",
      "\n",
      "   age_derived sentenceymd_derived sentenceym_derived judgeid_derived  \n",
      "9         27.0          2014-10-16         2014-10-01        judge_40  \n",
      "16        30.0          2014-08-06         2014-08-01       judge_310  \n",
      "18        38.0          2013-12-02         2013-12-01       judge_162  \n",
      "19        33.0          2012-09-10         2012-09-01       judge_331  \n",
      "26        49.0          2014-09-19         2014-09-01       judge_314  \n",
      "\n",
      "[5 rows x 52 columns]\n"
     ]
    }
   ],
   "source": [
    "cleaned_data = pd.read_pickle(\"sentencing_cleaned.pkl\")\n",
    "print(cleaned_data.head())"
   ]
  },
  {
   "cell_type": "markdown",
   "metadata": {},
   "source": [
    "## 2.1: Investigating one type of between-group difference: who reaches the sentencing stage? (5 points)\n",
    "\n",
    "Tabulate and visualize the proportion of defendants, out of all defendants sentenced in a given month/year, who are Black and who are White (separate proportions)\n",
    "\n",
    "- Denominator is number of unique cases that month\n",
    "- Numerator for black defendants is count of is_black_derived\n",
    "- Numerator for white defendants is count of is_white_derived\n",
    "- Fraction of each is numerator/denominator\n",
    "\n",
    "- Print the table\n",
    "- Create a graph with two lines--- one for Black defendants as fraction of total; another for White defendants. Make sure it includes a legend summarizing which color is for which group, and clean the legend so that it has informative names (e.g., Black or White rather than prop_black or prop_white)\n",
    "- Use mathematical notation to write out each of the proportions using summation notation in a 1-2 sentence writeup describing trends. What seems to be going on in April and May 2020? \n",
    "\n",
    "**Optional challenge**: improve the viz by shading the background of the visualization for months with fewer than 100 cases \n",
    "\n",
    "**Optional challenge**: improve the viz by adding a vertical line for 12-01-2016, the month that new State's Attorney Foxx took office "
   ]
  },
  {
   "cell_type": "code",
   "execution_count": 611,
   "metadata": {},
   "outputs": [
    {
     "name": "stdout",
     "output_type": "stream",
     "text": [
      "Index(['CASE_ID', 'CASE_PARTICIPANT_ID', 'RECEIVED_DATE', 'OFFENSE_CATEGORY',\n",
      "       'PRIMARY_CHARGE_FLAG', 'CHARGE_ID', 'CHARGE_VERSION_ID',\n",
      "       'DISPOSITION_CHARGED_OFFENSE_TITLE', 'CHARGE_COUNT', 'DISPOSITION_DATE',\n",
      "       'DISPOSITION_CHARGED_CHAPTER', 'DISPOSITION_CHARGED_ACT',\n",
      "       'DISPOSITION_CHARGED_SECTION', 'DISPOSITION_CHARGED_CLASS',\n",
      "       'DISPOSITION_CHARGED_AOIC', 'CHARGE_DISPOSITION',\n",
      "       'CHARGE_DISPOSITION_REASON', 'SENTENCE_JUDGE', 'SENTENCE_COURT_NAME',\n",
      "       'SENTENCE_COURT_FACILITY', 'SENTENCE_PHASE', 'SENTENCE_DATE',\n",
      "       'SENTENCE_TYPE', 'CURRENT_SENTENCE_FLAG', 'COMMITMENT_TYPE',\n",
      "       'COMMITMENT_TERM', 'COMMITMENT_UNIT', 'LENGTH_OF_CASE_in_Days',\n",
      "       'AGE_AT_INCIDENT', 'RACE', 'GENDER', 'INCIDENT_CITY',\n",
      "       'INCIDENT_BEGIN_DATE', 'INCIDENT_END_DATE', 'LAW_ENFORCEMENT_AGENCY',\n",
      "       'LAW_ENFORCEMENT_UNIT', 'ARREST_DATE', 'FELONY_REVIEW_DATE',\n",
      "       'FELONY_REVIEW_RESULT', 'ARRAIGNMENT_DATE', 'UPDATED_OFFENSE_CATEGORY',\n",
      "       'is_changed_offense', 'simplified_offense_derived', 'is_black_derived',\n",
      "       'is_hisp_derived', 'is_white_derived', 'is_other_derived',\n",
      "       'is_male_derived', 'age_derived', 'sentenceymd_derived',\n",
      "       'sentenceym_derived', 'judgeid_derived', 'months', 'year_month'],\n",
      "      dtype='object')\n"
     ]
    },
    {
     "data": {
      "text/html": [
       "<div>\n",
       "<style scoped>\n",
       "    .dataframe tbody tr th:only-of-type {\n",
       "        vertical-align: middle;\n",
       "    }\n",
       "\n",
       "    .dataframe tbody tr th {\n",
       "        vertical-align: top;\n",
       "    }\n",
       "\n",
       "    .dataframe thead th {\n",
       "        text-align: right;\n",
       "    }\n",
       "</style>\n",
       "<table border=\"1\" class=\"dataframe\">\n",
       "  <thead>\n",
       "    <tr style=\"text-align: right;\">\n",
       "      <th></th>\n",
       "      <th>months</th>\n",
       "      <th>unique_cases</th>\n",
       "      <th>num_black</th>\n",
       "      <th>num_white</th>\n",
       "      <th>fraction_black</th>\n",
       "      <th>fraction_white</th>\n",
       "    </tr>\n",
       "  </thead>\n",
       "  <tbody>\n",
       "    <tr>\n",
       "      <th>0</th>\n",
       "      <td>2012-01</td>\n",
       "      <td>1674</td>\n",
       "      <td>1134</td>\n",
       "      <td>242</td>\n",
       "      <td>0.677419</td>\n",
       "      <td>0.144564</td>\n",
       "    </tr>\n",
       "    <tr>\n",
       "      <th>1</th>\n",
       "      <td>2012-02</td>\n",
       "      <td>1450</td>\n",
       "      <td>941</td>\n",
       "      <td>233</td>\n",
       "      <td>0.648966</td>\n",
       "      <td>0.160690</td>\n",
       "    </tr>\n",
       "    <tr>\n",
       "      <th>2</th>\n",
       "      <td>2012-03</td>\n",
       "      <td>1612</td>\n",
       "      <td>1030</td>\n",
       "      <td>255</td>\n",
       "      <td>0.638958</td>\n",
       "      <td>0.158189</td>\n",
       "    </tr>\n",
       "    <tr>\n",
       "      <th>3</th>\n",
       "      <td>2012-04</td>\n",
       "      <td>1436</td>\n",
       "      <td>1000</td>\n",
       "      <td>211</td>\n",
       "      <td>0.696379</td>\n",
       "      <td>0.146936</td>\n",
       "    </tr>\n",
       "    <tr>\n",
       "      <th>4</th>\n",
       "      <td>2012-05</td>\n",
       "      <td>1545</td>\n",
       "      <td>1074</td>\n",
       "      <td>223</td>\n",
       "      <td>0.695146</td>\n",
       "      <td>0.144337</td>\n",
       "    </tr>\n",
       "    <tr>\n",
       "      <th>...</th>\n",
       "      <td>...</td>\n",
       "      <td>...</td>\n",
       "      <td>...</td>\n",
       "      <td>...</td>\n",
       "      <td>...</td>\n",
       "      <td>...</td>\n",
       "    </tr>\n",
       "    <tr>\n",
       "      <th>106</th>\n",
       "      <td>2020-11</td>\n",
       "      <td>491</td>\n",
       "      <td>298</td>\n",
       "      <td>76</td>\n",
       "      <td>0.606925</td>\n",
       "      <td>0.154786</td>\n",
       "    </tr>\n",
       "    <tr>\n",
       "      <th>107</th>\n",
       "      <td>2020-12</td>\n",
       "      <td>537</td>\n",
       "      <td>347</td>\n",
       "      <td>85</td>\n",
       "      <td>0.646182</td>\n",
       "      <td>0.158287</td>\n",
       "    </tr>\n",
       "    <tr>\n",
       "      <th>108</th>\n",
       "      <td>2021-01</td>\n",
       "      <td>447</td>\n",
       "      <td>278</td>\n",
       "      <td>50</td>\n",
       "      <td>0.621924</td>\n",
       "      <td>0.111857</td>\n",
       "    </tr>\n",
       "    <tr>\n",
       "      <th>109</th>\n",
       "      <td>2021-02</td>\n",
       "      <td>491</td>\n",
       "      <td>320</td>\n",
       "      <td>66</td>\n",
       "      <td>0.651731</td>\n",
       "      <td>0.134420</td>\n",
       "    </tr>\n",
       "    <tr>\n",
       "      <th>110</th>\n",
       "      <td>2021-03</td>\n",
       "      <td>532</td>\n",
       "      <td>362</td>\n",
       "      <td>79</td>\n",
       "      <td>0.680451</td>\n",
       "      <td>0.148496</td>\n",
       "    </tr>\n",
       "  </tbody>\n",
       "</table>\n",
       "<p>111 rows × 6 columns</p>\n",
       "</div>"
      ],
      "text/plain": [
       "      months  unique_cases  num_black  num_white  fraction_black  \\\n",
       "0    2012-01          1674       1134        242        0.677419   \n",
       "1    2012-02          1450        941        233        0.648966   \n",
       "2    2012-03          1612       1030        255        0.638958   \n",
       "3    2012-04          1436       1000        211        0.696379   \n",
       "4    2012-05          1545       1074        223        0.695146   \n",
       "..       ...           ...        ...        ...             ...   \n",
       "106  2020-11           491        298         76        0.606925   \n",
       "107  2020-12           537        347         85        0.646182   \n",
       "108  2021-01           447        278         50        0.621924   \n",
       "109  2021-02           491        320         66        0.651731   \n",
       "110  2021-03           532        362         79        0.680451   \n",
       "\n",
       "     fraction_white  \n",
       "0          0.144564  \n",
       "1          0.160690  \n",
       "2          0.158189  \n",
       "3          0.146936  \n",
       "4          0.144337  \n",
       "..              ...  \n",
       "106        0.154786  \n",
       "107        0.158287  \n",
       "108        0.111857  \n",
       "109        0.134420  \n",
       "110        0.148496  \n",
       "\n",
       "[111 rows x 6 columns]"
      ]
     },
     "execution_count": 611,
     "metadata": {},
     "output_type": "execute_result"
    },
    {
     "data": {
      "text/plain": [
       "<Figure size 1000x600 with 0 Axes>"
      ]
     },
     "execution_count": 611,
     "metadata": {},
     "output_type": "execute_result"
    },
    {
     "data": {
      "text/plain": [
       "[<matplotlib.lines.Line2D at 0x13b9a7470>]"
      ]
     },
     "execution_count": 611,
     "metadata": {},
     "output_type": "execute_result"
    },
    {
     "data": {
      "text/plain": [
       "[<matplotlib.lines.Line2D at 0x15017e420>]"
      ]
     },
     "execution_count": 611,
     "metadata": {},
     "output_type": "execute_result"
    },
    {
     "data": {
      "text/plain": [
       "Text(0.5, 1.0, 'Proportion of Black and White Defendants Sentenced')"
      ]
     },
     "execution_count": 611,
     "metadata": {},
     "output_type": "execute_result"
    },
    {
     "data": {
      "text/plain": [
       "Text(0.5, 0, 'Month/Year')"
      ]
     },
     "execution_count": 611,
     "metadata": {},
     "output_type": "execute_result"
    },
    {
     "data": {
      "text/plain": [
       "Text(0, 0.5, 'Proportion of Defendants')"
      ]
     },
     "execution_count": 611,
     "metadata": {},
     "output_type": "execute_result"
    },
    {
     "data": {
      "text/plain": [
       "<matplotlib.legend.Legend at 0x15017f440>"
      ]
     },
     "execution_count": 611,
     "metadata": {},
     "output_type": "execute_result"
    },
    {
     "data": {
      "text/plain": [
       "<matplotlib.collections.LineCollection at 0x1381e9190>"
      ]
     },
     "execution_count": 611,
     "metadata": {},
     "output_type": "execute_result"
    },
    {
     "data": {
      "text/plain": [
       "(0.0, 1.0)"
      ]
     },
     "execution_count": 611,
     "metadata": {},
     "output_type": "execute_result"
    },
    {
     "data": {
      "text/plain": [
       "([<matplotlib.axis.XTick at 0x15013c9e0>,\n",
       "  <matplotlib.axis.XTick at 0x15013ee70>,\n",
       "  <matplotlib.axis.XTick at 0x149e546b0>,\n",
       "  <matplotlib.axis.XTick at 0x137ce0320>,\n",
       "  <matplotlib.axis.XTick at 0x149e63740>,\n",
       "  <matplotlib.axis.XTick at 0x149e68050>,\n",
       "  <matplotlib.axis.XTick at 0x149e70bc0>,\n",
       "  <matplotlib.axis.XTick at 0x149e60710>,\n",
       "  <matplotlib.axis.XTick at 0x149e72120>,\n",
       "  <matplotlib.axis.XTick at 0x149e7e8a0>,\n",
       "  <matplotlib.axis.XTick at 0x149e7f2f0>,\n",
       "  <matplotlib.axis.XTick at 0x149e87e90>,\n",
       "  <matplotlib.axis.XTick at 0x149e736b0>,\n",
       "  <matplotlib.axis.XTick at 0x149e843b0>,\n",
       "  <matplotlib.axis.XTick at 0x149e8fb30>,\n",
       "  <matplotlib.axis.XTick at 0x149e95340>,\n",
       "  <matplotlib.axis.XTick at 0x149e94e60>,\n",
       "  <matplotlib.axis.XTick at 0x149e73f50>,\n",
       "  <matplotlib.axis.XTick at 0x149e842f0>],\n",
       " [Text(0.0, 0, '2012-01'),\n",
       "  Text(6.0, 0, '2012-07'),\n",
       "  Text(12.0, 0, '2013-01'),\n",
       "  Text(18.0, 0, '2013-07'),\n",
       "  Text(24.0, 0, '2014-01'),\n",
       "  Text(30.0, 0, '2014-07'),\n",
       "  Text(36.0, 0, '2015-01'),\n",
       "  Text(42.0, 0, '2015-07'),\n",
       "  Text(48.0, 0, '2016-01'),\n",
       "  Text(54.0, 0, '2016-07'),\n",
       "  Text(60.0, 0, '2017-01'),\n",
       "  Text(66.0, 0, '2017-07'),\n",
       "  Text(72.0, 0, '2018-01'),\n",
       "  Text(78.0, 0, '2018-07'),\n",
       "  Text(84.0, 0, '2019-01'),\n",
       "  Text(90.0, 0, '2019-07'),\n",
       "  Text(96.0, 0, '2020-01'),\n",
       "  Text(102.0, 0, '2020-07'),\n",
       "  Text(108.0, 0, '2021-01')])"
      ]
     },
     "execution_count": 611,
     "metadata": {},
     "output_type": "execute_result"
    },
    {
     "data": {
      "image/png": "[encoded data removed]",
      "text/plain": [
       "<Figure size 1000x600 with 1 Axes>"
      ]
     },
     "metadata": {},
     "output_type": "display_data"
    },
    {
     "data": {
      "text/latex": [
       "$\\displaystyle Proportion_{B}(t) = \\frac{\\sum_{i=1}^{N_t} is\\_black\\_derived_i}{N_t}$"
      ],
      "text/plain": [
       "<IPython.core.display.Math object>"
      ]
     },
     "metadata": {},
     "output_type": "display_data"
    },
    {
     "data": {
      "text/latex": [
       "$\\displaystyle Proportion_{W}(t) = \\frac{\\sum_{i=1}^{N_t} is\\_white\\_derived_i}{N_t}$"
      ],
      "text/plain": [
       "<IPython.core.display.Math object>"
      ]
     },
     "metadata": {},
     "output_type": "display_data"
    }
   ],
   "source": [
    "print(cleaned_data.columns)\n",
    "\n",
    "# creating a months variable\n",
    "cleaned_data['months'] = cleaned_data['sentenceym_derived'].dt.to_period('M')\n",
    "months = month_data['months'].astype(str)\n",
    "\n",
    "month_data = cleaned_data.groupby(\"months\").agg(\n",
    "    unique_cases=(\"CASE_ID\", \"nunique\"),\n",
    "    num_black=(\"is_black_derived\", \"sum\"), \n",
    "    num_white=(\"is_white_derived\", \"sum\")\n",
    ").reset_index()\n",
    "\n",
    "# calculate fractions\n",
    "prop_black = month_data['fraction_black'] = month_data[\"num_black\"] / month_data[\"unique_cases\"]\n",
    "prop_white = month_data['fraction_white'] = month_data[\"num_white\"] / month_data[\"unique_cases\"]\n",
    "\n",
    "#table\n",
    "table = month_data[['months', 'unique_cases', 'num_black', 'num_white', 'fraction_black', 'fraction_white']]\n",
    "table\n",
    "\n",
    "# plot\n",
    "plt.figure(figsize=(10, 6))\n",
    "plt.plot(months, prop_black, marker='o', label='Black Defendants')\n",
    "plt.plot(months, prop_white, marker='o', label='White Defendants')\n",
    "plt.title('Proportion of Black and White Defendants Sentenced')\n",
    "plt.xlabel(\"Month/Year\")\n",
    "plt.ylabel(\"Proportion of Defendants\")\n",
    "plt.legend(title='Defendant Group')\n",
    "plt.grid()\n",
    "# optional vertical line\n",
    "plt.vlines(x='2016-12', ymin=0, ymax=1, color='firebrick', linestyle='--', label=\"Foxx Takes Office\")\n",
    "plt.ylim(0, 1)\n",
    "plt.xticks(months[::6],  rotation=45)  \n",
    "plt.show()\n",
    "\n",
    "# math notation\n",
    "from IPython.display import display, Math\n",
    "\n",
    "# where t = month and N = total unique samples \n",
    "display(Math(r\"Proportion_{B}(t) = \\frac{\\sum_{i=1}^{N_t} is\\_black\\_derived_i}{N_t}\"))\n",
    "\n",
    "display(Math(r\"Proportion_{W}(t) = \\frac{\\sum_{i=1}^{N_t} is\\_white\\_derived_i}{N_t}\"))"
   ]
  },
  {
   "cell_type": "markdown",
   "metadata": {},
   "source": [
    "These proportions show that the sum of the total cases N per month t for the proportion of black defendants and white defendents can be divided by the total number of cases per month for all races to obtain the overall proportion. The math and graph show that in April and May of 2020, there is a spike in white defendants and a notable decrease in black defendants, which could be attributed to the Black Lives Matter social justice movement that swept across the country."
   ]
  },
  {
   "cell_type": "markdown",
   "metadata": {},
   "source": [
    "## 2.2: Investigating the first type of disparity: probation versus incaceration (10 points)\n",
    "\n",
    "One type of disparity beyond who arrives at the sentencing stage is whether the defendant receives probation or incaceration.\n",
    "\n",
    "According to the codebook, incarceration is indicated by `COMMITMENT_TYPE` == \"Illinois Department of Corrections\"\n",
    "\n",
    "Recreate the previous plot but where the y axis represents the difference between the following proportions (can be either Black - White or White - Black but make sure to label), adding a smoothed line:\n",
    "\n",
    "- Percent of black defendants who are incarcerated out of all black defendants that month/year \n",
    "- Percent of white defendants who are incarcerated out of all white defendants that month/year \n",
    "\n",
    "In a markdown cell after, write 1-2 sentences on your observations of trends over time. Do gaps seem to be widening or increasing?"
   ]
  },
  {
   "cell_type": "code",
   "execution_count": 613,
   "metadata": {},
   "outputs": [
    {
     "data": {
      "text/plain": [
       "<Figure size 1000x600 with 0 Axes>"
      ]
     },
     "execution_count": 613,
     "metadata": {},
     "output_type": "execute_result"
    },
    {
     "data": {
      "text/plain": [
       "[<matplotlib.lines.Line2D at 0x137c3f6e0>]"
      ]
     },
     "execution_count": 613,
     "metadata": {},
     "output_type": "execute_result"
    },
    {
     "data": {
      "text/plain": [
       "Text(0.5, 1.0, 'Difference in Incarceration Rates Between Black and White Defendants')"
      ]
     },
     "execution_count": 613,
     "metadata": {},
     "output_type": "execute_result"
    },
    {
     "data": {
      "text/plain": [
       "Text(0.5, 0, 'Date')"
      ]
     },
     "execution_count": 613,
     "metadata": {},
     "output_type": "execute_result"
    },
    {
     "data": {
      "text/plain": [
       "Text(0, 0.5, 'Difference in Incarceration Rates (%) (Black - White)')"
      ]
     },
     "execution_count": 613,
     "metadata": {},
     "output_type": "execute_result"
    },
    {
     "data": {
      "text/plain": [
       "(array([14975., 15340., 15706., 16071., 16436., 16801., 17167., 17532.,\n",
       "        17897., 18262., 18628.]),\n",
       " [Text(14975.0, 0, '2011'),\n",
       "  Text(15340.0, 0, '2012'),\n",
       "  Text(15706.0, 0, '2013'),\n",
       "  Text(16071.0, 0, '2014'),\n",
       "  Text(16436.0, 0, '2015'),\n",
       "  Text(16801.0, 0, '2016'),\n",
       "  Text(17167.0, 0, '2017'),\n",
       "  Text(17532.0, 0, '2018'),\n",
       "  Text(17897.0, 0, '2019'),\n",
       "  Text(18262.0, 0, '2020'),\n",
       "  Text(18628.0, 0, '2021')])"
      ]
     },
     "execution_count": 613,
     "metadata": {},
     "output_type": "execute_result"
    },
    {
     "data": {
      "image/png": "[encoded data removed]",
      "text/plain": [
       "<Figure size 1000x600 with 1 Axes>"
      ]
     },
     "metadata": {},
     "output_type": "display_data"
    }
   ],
   "source": [
    "\n",
    "# incarcerated duplicate\n",
    "incarcerated_data = cleaned_data[cleaned_data[\"COMMITMENT_TYPE\"] == \"Illinois Department of Corrections\"].copy()\n",
    "incarcerated_data[\"year_month\"] = incarcerated_data[\"sentenceym_derived\"]\n",
    "cleaned_data[\"year_month\"] = cleaned_data[\"sentenceym_derived\"]\n",
    "\n",
    "total_race = cleaned_data.groupby(\"year_month\").agg(\n",
    "    total_black=(\"is_black_derived\", \"sum\"),\n",
    "    total_white=(\"is_white_derived\", \"sum\")\n",
    ").reset_index()\n",
    "\n",
    "race_incarceration = incarcerated_data.groupby(\"year_month\").agg(\n",
    "    incarcerated_black=(\"is_black_derived\", \"sum\"),\n",
    "    incarcerated_white=(\"is_white_derived\", \"sum\")\n",
    ").reset_index()\n",
    "\n",
    "incarc_of_total = pd.merge(race_incarceration, total_race, on='year_month')\n",
    "\n",
    "incarc_of_total[\"percent_black_incarcerated\"] = (incarc_of_total[\"incarcerated_black\"] / incarc_of_total[\"total_black\"]) * 100\n",
    "incarc_of_total[\"percent_white_incarcerated\"] = (incarc_of_total[\"incarcerated_white\"] / incarc_of_total[\"total_white\"]) * 100\n",
    "\n",
    "incarc_of_total['differences'] = incarc_of_total['percent_black_incarcerated'] - incarc_of_total['percent_white_incarcerated']\n",
    "incarc_of_total['smoothed'] = incarc_of_total['differences'].rolling(window=3, min_periods=1).mean()\n",
    "\n",
    "# plot\n",
    "plt.figure(figsize=(10, 6))\n",
    "plt.plot(merged_data['year_month'], incarc_of_total['smoothed'], color='firebrick', label= \"Incarceration Difference\", linewidth=2)\n",
    "plt.title('Difference in Incarceration Rates Between Black and White Defendants')\n",
    "plt.xlabel('Date')\n",
    "plt.ylabel('Difference in Incarceration Rates (%) (Black - White)')\n",
    "plt.xticks(rotation=45)\n",
    "plt.show()"
   ]
  },
  {
   "cell_type": "markdown",
   "metadata": {},
   "source": [
    "The gaps seem seem to be widening. Briefly in 2020, the difference approached 0. However, disparities swung in the other direction, indicating the usage of race as a factor in determining incarceration. Also, the brief effect of the social movements in 2020 were negated by swings back to the extremes in following years."
   ]
  },
  {
   "cell_type": "markdown",
   "metadata": {},
   "source": [
    "## 2.3: Investigating mechanisms: incaceration rates by charge\n",
    "\n",
    "Your colleague sees the previous graph and is worried that the gap could be different---either wider or smaller---if you adjust for the fact that prosecutors have discretion in what crimes to charge defendants with. If white defendants are charged with crimes that tend to receive probation rather than incarceration, that could explain some of the gaps.\n",
    "\n",
    "In the next questions, you'll begin to investigate this."
   ]
  },
  {
   "cell_type": "code",
   "execution_count": null,
   "metadata": {},
   "outputs": [],
   "source": []
  },
  {
   "cell_type": "markdown",
   "metadata": {},
   "source": [
    "### 2.3.1: Find the most common offenses (3 points)\n",
    "\n",
    "First, create a set of 'frequent offenses' that represent (over the entire period) the union of the 10 offenses Black defendant are most likely to be charged with and the 10 offenses white defendants are most likely to be charged with (might be far less than 20 total if there's a lot of overlap in common charges)\n",
    "\n",
    "Use the `simplified_offense_derived` for this"
   ]
  },
  {
   "cell_type": "code",
   "execution_count": 560,
   "metadata": {},
   "outputs": [
    {
     "name": "stdout",
     "output_type": "stream",
     "text": [
      "{'Battery', 'Narcotics', 'Burglary', 'DUI', 'Other Offense', 'Retail Theft', 'Theft', 'Driving With Suspended Or Revoked License', 'Vehicle-related', 'Residential Burglary', 'Robbery', 'UUW - Unlawful Use of Weapon'}\n"
     ]
    }
   ],
   "source": [
    "black_def = cleaned_data[(cleaned_data[\"is_black_derived\"] == True) ]\n",
    "white_def = cleaned_data[(cleaned_data[\"is_white_derived\"] == True)]\n",
    "\n",
    "most_black = black_def[\"simplified_offense_derived\"].value_counts().head(10)\n",
    "most_white = white_def[\"simplified_offense_derived\"].value_counts().head(10)\n",
    "frequent_offenses = pd.concat([most_black, most_white])\n",
    "frequent_offenses = set(frequent_offenses.index)\n",
    "print(frequent_offenses)"
   ]
  },
  {
   "cell_type": "markdown",
   "metadata": {},
   "source": [
    "### 2.3.2: Look at incarceration rates (again just whether incarcerated) by race and offense type for these top offenses (3 points)\n",
    "\n",
    "Print a wide-format version of the resulting table (so each row is an offense type, one col is black incarceration rate for that offense type; another is the white incarceration rate) and interpret. Which offenses show the largest disparities in judges being less likely to sentence White defendants to incarceration/more likely to offer those defendants probation?\n"
   ]
  },
  {
   "cell_type": "code",
   "execution_count": 562,
   "metadata": {},
   "outputs": [
    {
     "name": "stdout",
     "output_type": "stream",
     "text": [
      "                   simplified_offense_derived  Black Incarceration Rate  White Incarceration Rate\n",
      "                                Armed Robbery                  0.949971                  0.919255\n",
      "                               Armed Violence                  1.000000                       NaN\n",
      "                                        Arson                  0.671756                  0.517241\n",
      "                       Assault Police Officer                  0.607692                  0.292683\n",
      "                        Attempt Armed Robbery                  0.823204                  0.703704\n",
      "                                      Battery                  0.509032                  0.275552\n",
      "                                  Bomb Threat                  0.535714                  0.200000\n",
      "                                      Bribery                  0.347826                  0.111111\n",
      "                                     Burglary                  0.661927                  0.535763\n",
      "                              Child Abduction                  0.142857                  0.333333\n",
      "                            Child Pornography                  0.500000                  0.378378\n",
      "                   Communicating With Witness                  0.818182                  0.000000\n",
      "                            Credit Card Cases                  0.316667                  0.296610\n",
      "                  Criminal Damage to Property                  0.314094                  0.215084\n",
      "               Criminal Trespass To Residence                  0.281250                  0.257143\n",
      "                                          DUI                  0.404997                  0.341855\n",
      "                           Deceptive Practice                  0.240000                  0.258065\n",
      "                     Disarming Police Officer                  0.767442                  0.300000\n",
      "                            Discharge Firearm                  0.797101                  0.235294\n",
      "                                 Dog Fighting                  0.500000                  0.000000\n",
      "    Driving With Suspended Or Revoked License                  0.582193                  0.496552\n",
      "                   Escape - Failure to Return                  0.694955                  0.528139\n",
      "        Failure to Register as a Sex Offender                  0.670311                  0.608280\n",
      "                          Fleeing and Eluding                  0.494863                  0.384259\n",
      "                                      Forgery                  0.275466                  0.364431\n",
      "                                        Fraud                  0.405405                  0.229508\n",
      "                                Fraudulent ID                  0.235849                  0.162791\n",
      "                                     Gambling                       NaN                  0.000000\n",
      "                                Gun - Non UUW                  0.500000                  0.000000\n",
      "                                  Gun Running                  0.750000                       NaN\n",
      "                                  Hate Crimes                  0.750000                  0.333333\n",
      "                                Home Invasion                  0.943038                  0.842105\n",
      "                                     Homicide                  0.952641                  0.893333\n",
      "                            Human Trafficking                  0.909091                       NaN\n",
      "                               Identity Theft                  0.359756                  0.369492\n",
      "                 Impersonating Police Officer                  0.288462                  0.200000\n",
      "                                 Intimidation                  0.589474                  0.421053\n",
      "                                   Kidnapping                  0.738095                  0.500000\n",
      "                              Major Accidents                  0.735294                  0.636364\n",
      "                                    Narcotics                  0.537876                  0.242535\n",
      "                          Obstructing Justice                  0.309091                  0.347826\n",
      "                          Official Misconduct                  0.000000                  0.000000\n",
      "                                Other Offense                  0.340580                  0.230228\n",
      "                            PROMIS Conversion                  0.708423                  0.544218\n",
      "                                      Perjury                  0.444444                  0.000000\n",
      "                 Possession Of Burglary Tools                  0.394737                  0.625000\n",
      "Possession of Contraband in Penal Institution                  0.854369                  0.944444\n",
      "                     Possession of Explosives                       NaN                  1.000000\n",
      "                                 Prostitution                  0.273713                  0.274510\n",
      "                Reckless Discharge of Firearm                  0.251256                  0.151515\n",
      "                         Residential Burglary                  0.717791                  0.654114\n",
      "                                 Retail Theft                  0.595713                  0.449582\n",
      "                                      Robbery                  0.650341                  0.589286\n",
      "                                   Sex Crimes                  0.800830                  0.514139\n",
      "                                     Stalking                  0.746032                  0.348485\n",
      "                                    Tampering                  0.000000                       NaN\n",
      "                                        Theft                  0.386961                  0.318721\n",
      "                           Theft by Deception                  0.400000                  0.000000\n",
      "                 UUW - Unlawful Use of Weapon                  0.696191                  0.481973\n",
      "                           Unlawful Restraint                  0.500000                  0.277778\n",
      "                              Vehicle-related                  0.553750                  0.585635\n",
      "                            Violate Bail Bond                  0.807692                  0.727273\n",
      "                Violation Order Of Protection                  0.761538                  0.561644\n",
      "       Violation of Sex Offender Registration                  1.000000                       NaN\n",
      "simplified_offense_derived  Black Incarceration Rate  White Incarceration Rate  Disparities\n",
      "Communicating With Witness                  0.818182                  0.000000     0.818182\n",
      "         Discharge Firearm                  0.797101                  0.235294     0.561807\n",
      "              Dog Fighting                  0.500000                  0.000000     0.500000\n",
      "             Gun - Non UUW                  0.500000                  0.000000     0.500000\n",
      "  Disarming Police Officer                  0.767442                  0.300000     0.467442\n"
     ]
    }
   ],
   "source": [
    "# total numbers\n",
    "black_offense = cleaned_data[cleaned_data['is_black_derived'] == True].groupby('simplified_offense_derived').size()\n",
    "white_offense = cleaned_data[cleaned_data['is_white_derived'] == True].groupby('simplified_offense_derived').size()\n",
    "# incarcerated numbers\n",
    "o_black_inc = incarcerated_data[incarcerated_data['is_black_derived'] == True].groupby('simplified_offense_derived').size()\n",
    "o_white_inc = incarcerated_data[incarcerated_data['is_white_derived'] == True].groupby('simplified_offense_derived').size()\n",
    "\n",
    "#dict\n",
    "incarceration_values = {\n",
    "    'Total Black': black_offense,\n",
    "    'Incarcerated Black': o_black_inc,\n",
    "    'Total White': white_offense,\n",
    "    'Incarcerated White': o_white_inc,\n",
    "}\n",
    "incarceration_df = pd.DataFrame(incarceration_values).fillna(0)\n",
    "#rates\n",
    "incarceration_df['Black Incarceration Rate'] = incarceration_df['Incarcerated Black'] / incarceration_df['Total Black'] \n",
    "incarceration_df['White Incarceration Rate'] = incarceration_df['Incarcerated White'] / incarceration_df['Total White'] \n",
    "\n",
    "incarceration_rates = incarceration_df[['Black Incarceration Rate', 'White Incarceration Rate']]\n",
    "\n",
    "print(incarceration_rates.reset_index().to_string(index=False))\n",
    "\n",
    "#disparities\n",
    "incarceration_df[\"Disparities\"] = incarceration_df[\"Black Incarceration Rate\"] - incarceration_df[\"White Incarceration Rate\"]\n",
    "\n",
    "incarceration_disparities = incarceration_df[[\"Black Incarceration Rate\", \"White Incarceration Rate\", \"Disparities\"]].sort_values(by=\"Disparities\", ascending=False)\n",
    "print(incarceration_disparities.reset_index().head().to_string(index=False))\n"
   ]
  },
  {
   "cell_type": "markdown",
   "metadata": {},
   "source": [
    "The offenses showing the largest disparities in incarceration on the basis of race are: Communicating with Witness, Discharge of Firearm, Dogfighting, Gun - Non UUW, and Disarming a Police Officer."
   ]
  },
  {
   "cell_type": "markdown",
   "metadata": {},
   "source": [
    "### 2.3.3: Examine whether this changes pre and post change to charging threshold for retail theft (13 points)\n",
    "\n",
    "One important question is not only whether there are disparities by offense type but also whether these disparities are changing over time.\n",
    "\n",
    "The SAO, for instance, announced in December of 2016 that they would no longer default to charging retail thefts of under \\$1,000 as felonies. This change might have (1) decreased disparities or (2) increased disparities, depending on the correlation between race/ethnicity and magnitude of goods stolen: [news coverage](https://www.dnainfo.com/chicago/20161215/little-village/kim-foxx-raises-bar-for-retail-theft-felonies/). \n",
    "\n",
    "Focusing on `simplified_offense_derived` == \"Retail theft.\" Using a function and/or loop (Dec. 2016 is always excluded as a transition month):\n",
    "\n",
    "- Compare Black-White disparities before and after the change using a two-month bandwidth (so pre is October and November 2016; post is January and February 2017)\n",
    "\n",
    "- Compare Black-White disparities before and after the change using a four-month bandwidth (so pre is August- November 2016; post is January - April 2017)\n",
    "\n",
    "- Compare Black-White disparities using an eight-month bandwidth\n",
    "\n",
    "- Compare Black-White disparities using a twelve-month bandwidth\n",
    "\n",
    "\n",
    "------------------ \n",
    "\n",
    "- Print a table with the results (any organization is fine as long as it's clear)  \n",
    "\n",
    "- Create a bar chart where the x axis represents different bandwidths (2, 4, etc); the y axis the size of the Black-White gap in whether the defendant receives incarceration, and for each of the x axis points, you have one shaded bar representing \"before\" the change, another representing \"after\" the change (make sure that before is ordered before after and the bandwidths are from smallest to largest)\n",
    "\n",
    "*Note*: for each of the bandwidths include dates the entire month (e.g., for the first, include not only 02-01-2017 but everything up through 02-28-2017; easiest way is for the subsetting to use the rounded `sentenceym_derived`). Also make sure to only include white or black defendants.\n",
    "\n",
    "\n",
    "**Extra credit**: because the bandwidths have different sample sizes, a better viz incorporates measures of uncertainty. Add standard errors to the estimates using the formula: $(\\dfrac{p(1-p)}{n})^{0.5}$ where $p$ is the gap and $N$ is the number of cases in each bandwidth period \n"
   ]
  },
  {
   "cell_type": "code",
   "execution_count": 565,
   "metadata": {},
   "outputs": [
    {
     "name": "stdout",
     "output_type": "stream",
     "text": [
      "   Bandwidth  Disparity Before Policy  Disparity After Policy\n",
      "0   2 Months                 0.087912                0.154949\n",
      "1   4 Months                 0.081588                0.081615\n",
      "2   8 Months                 0.132900                0.064705\n",
      "3  12 Months                 0.161618                0.064705\n"
     ]
    }
   ],
   "source": [
    "retail_theft_data = cleaned_data[cleaned_data[\"simplified_offense_derived\"] == \"Retail Theft\"]\n",
    "\n",
    "disparities = []\n",
    "band_dict = {\n",
    "    \"2 Months\": ('2016-10-01', '2016-11-30', '2017-01-01', '2017-02-28'),\n",
    "    \"4 Months\": ('2016-08-01', '2016-11-30', '2017-01-01', '2017-04-30'),\n",
    "    \"8 Months\": ('2016-04-01', '2016-11-30', '2017-01-01', '2017-12-31'),\n",
    "    \"12 Months\": ('2015-12-01', '2016-11-30', '2017-01-01', '2017-12-31')}\n",
    "\n",
    "def theft_disparity(pre_band, pre_bandend, post_band, post_bandend):\n",
    "    pre_policy = retail_theft_data[(retail_theft_data['sentenceym_derived'] >= pre_band) & \n",
    "                                  (retail_theft_data['sentenceym_derived'] <= pre_bandend)]\n",
    "    \n",
    "    post_policy = retail_theft_data[(retail_theft_data['sentenceym_derived'] >= post_band) & \n",
    "                                   (retail_theft_data['sentenceym_derived'] <= post_bandend)]\n",
    "\n",
    "    black_pre = pre_policy['is_black_derived'].sum()\n",
    "    ipre_black = pre_policy[pre_policy['COMMITMENT_TYPE'] == \"Illinois Department of Corrections\"]['is_black_derived'].sum()\n",
    "\n",
    "    white_pre = pre_policy['is_white_derived'].sum()\n",
    "    ipre_white = pre_policy[pre_policy['COMMITMENT_TYPE'] == \"Illinois Department of Corrections\"]['is_white_derived'].sum()\n",
    "\n",
    "    black_post = post_policy['is_black_derived'].sum()\n",
    "    ipost_black = post_policy[post_policy['COMMITMENT_TYPE'] == \"Illinois Department of Corrections\"]['is_black_derived'].sum()\n",
    "\n",
    "    white_post = post_policy['is_white_derived'].sum()\n",
    "    ipost_white = post_policy[post_policy['COMMITMENT_TYPE'] == \"Illinois Department of Corrections\"]['is_white_derived'].sum()\n",
    "\n",
    "    preblack_rate = ipre_black / black_pre \n",
    "    prewhite_rate = ipre_white / white_pre \n",
    "    postblack_rate = ipost_black / black_post \n",
    "    postwhite_rate = ipost_white / white_post \n",
    "    \n",
    "    before_disparity = preblack_rate - prewhite_rate\n",
    "    after_disparity = postblack_rate - postwhite_rate\n",
    "\n",
    "    return before_disparity, after_disparity\n",
    "\n",
    "for each, (pre_band, pre_bandend, post_band, post_bandend) in band_dict.items():\n",
    "    before_disparity, after_disparity = theft_disparity(pre_band, pre_bandend, post_band, post_bandend)\n",
    "    disparities.append((each, before_disparity, after_disparity))\n",
    "\n",
    "disparity_df = pd.DataFrame(disparities, columns=[\"Bandwidth\", \"Disparity Before Policy\", \"Disparity After Policy\"])\n",
    "print(disparity_df)"
   ]
  },
  {
   "cell_type": "code",
   "execution_count": 566,
   "metadata": {},
   "outputs": [
    {
     "data": {
      "text/plain": [
       "Text(0, 0.5, 'Disparity in Incarceration Rates')"
      ]
     },
     "execution_count": 566,
     "metadata": {},
     "output_type": "execute_result"
    },
    {
     "data": {
      "text/plain": [
       "Text(0.5, 1.0, 'Black-White Incarceration Disparities Before and After Policy Change')"
      ]
     },
     "execution_count": 566,
     "metadata": {},
     "output_type": "execute_result"
    },
    {
     "data": {
      "text/plain": [
       "[<matplotlib.axis.XTick at 0x14aada8a0>,\n",
       " <matplotlib.axis.XTick at 0x14aadb590>,\n",
       " <matplotlib.axis.XTick at 0x1381c24b0>,\n",
       " <matplotlib.axis.XTick at 0x14aa3e450>]"
      ]
     },
     "execution_count": 566,
     "metadata": {},
     "output_type": "execute_result"
    },
    {
     "data": {
      "text/plain": [
       "[Text(0, 0, '2 Months'),\n",
       " Text(1, 0, '4 Months'),\n",
       " Text(2, 0, '8 Months'),\n",
       " Text(3, 0, '12 Months')]"
      ]
     },
     "execution_count": 566,
     "metadata": {},
     "output_type": "execute_result"
    },
    {
     "data": {
      "text/plain": [
       "<matplotlib.legend.Legend at 0x14c44a960>"
      ]
     },
     "execution_count": 566,
     "metadata": {},
     "output_type": "execute_result"
    },
    {
     "data": {
      "image/png": "[encoded data removed]",
      "text/plain": [
       "<Figure size 1000x600 with 1 Axes>"
      ]
     },
     "metadata": {},
     "output_type": "display_data"
    }
   ],
   "source": [
    "# bar\n",
    "bandwidth_order = [\"2 Months\", \"4 Months\", \"8 Months\", \"12 Months\"]\n",
    "disparity_df['Bandwidth'] = pd.Categorical(disparity_df['Bandwidth'], categories=bandwidth_order, ordered=True)\n",
    "disparity_df = disparity_df.sort_values(by='Bandwidth')\n",
    "\n",
    "x = np.arange(len(disparity_df))  # the label locations\n",
    "width = 0.35  # width of the bars\n",
    "\n",
    "fig, ax = plt.subplots(figsize=(10, 6))\n",
    "bars1 = ax.bar(x - width/2, disparity_df['Disparity Before Policy'], width, label='Before Policy', color='lightblue')\n",
    "bars2 = ax.bar(x + width/2, disparity_df['Disparity After Policy'], width, label='After Policy', color='firebrick')\n",
    "\n",
    "ax.set_ylabel('Disparity in Incarceration Rates')\n",
    "ax.set_title('Black-White Incarceration Disparities Before and After Policy Change')\n",
    "ax.set_xticks(x)\n",
    "ax.set_xticklabels(disparity_df['Bandwidth'])\n",
    "ax.legend()\n",
    "plt.tight_layout()\n",
    "plt.show()"
   ]
  },
  {
   "cell_type": "markdown",
   "metadata": {},
   "source": [
    "### 2.3.3.1: Interpret the results (2 points)\n",
    "\n",
    "Write a two-sentence interpretation of the results. What might this show about how people on both sides of the issue---those who argued that the retail theft policy change would narrow disparities; those who argued that the change may widen disparities--could support their claims? "
   ]
  },
  {
   "cell_type": "markdown",
   "metadata": {},
   "source": [
    "These results show that as the bandwidth increasees, disparities between races become more pronounced under the old theft laws. With the policy change, the broader effect is that inequalities between the two races start to dissipate. Those who argue that the policy narrows disparities would say that in the broad scheme of things, disparities are decreased empirically. Opponents would say that since the 2 month post policy disparity is so great, overall inequality is exacerbated by the retail theft level change."
   ]
  }
 ],
 "metadata": {
  "kernelspec": {
   "display_name": "Python 3 (ipykernel)",
   "language": "python",
   "name": "python3"
  },
  "language_info": {
   "codemirror_mode": {
    "name": "ipython",
    "version": 3
   },
   "file_extension": ".py",
   "mimetype": "text/x-python",
   "name": "python",
   "nbconvert_exporter": "python",
   "pygments_lexer": "ipython3",
   "version": "3.12.4"
  }
 },
 "nbformat": 4,
 "nbformat_minor": 4
}
